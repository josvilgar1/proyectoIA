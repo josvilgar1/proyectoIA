{
 "cells": [
  {
   "cell_type": "code",
   "execution_count": 1,
   "metadata": {},
   "outputs": [],
   "source": [
    "import numpy as np\n",
    "import random as random\n",
    "from numpy import random"
   ]
  },
  {
   "cell_type": "code",
   "execution_count": 2,
   "metadata": {},
   "outputs": [],
   "source": [
    "def obtainRMatrix(m, horizVertValue, diagonValue):\n",
    "    Rsize = size**2\n",
    "    rMatrix = inicializeRMatrix(num_col,num_fil)\n",
    "    res=[]\n",
    "    horizVert=horizVertValue\n",
    "    diagon=diagonValue\n",
    "    for i in range(num_fil):\n",
    "        for j in range(num_col):\n",
    "            n0 = m[i][j]\n",
    "            if 0<i<num_fil-1:\n",
    "                rMatrix[m[i][j]][m[i-1][j]]=horizVert\n",
    "                rMatrix[m[i][j]][m[i+1][j]]=horizVert\n",
    "                \n",
    "                if(0<j<num_col-1):\n",
    "                    rMatrix[m[i][j]][m[i-1][j-1]]=diagon\n",
    "                    rMatrix[m[i][j]][m[i-1][j+1]]=diagon\n",
    "                    rMatrix[m[i][j]][m[i+1][j-1]]=diagon\n",
    "                    rMatrix[m[i][j]][m[i+1][j+1]]=diagon\n",
    "                    \n",
    "                    rMatrix[m[i][j]][m[i][j-1]]=horizVert\n",
    "                    rMatrix[m[i][j]][m[i][j+1]]=horizVert\n",
    "                    \n",
    "                if(j==0):\n",
    "                    rMatrix[m[i][j]][m[i-1][j+1]]=diagon\n",
    "                    rMatrix[m[i][j]][m[i+1][j+1]]=diagon\n",
    "                    \n",
    "                    rMatrix[m[i][j]][m[i][j+1]]=horizVert\n",
    "                    \n",
    "                if(j==num_col-1):\n",
    "                    rMatrix[m[i][j]][m[i-1][j-1]]=diagon\n",
    "                    rMatrix[m[i][j]][m[i+1][j-1]]=diagon\n",
    "                    \n",
    "                    rMatrix[m[i][j]][m[i][j-1]]=horizVert\n",
    "                    \n",
    "            elif(i==0):\n",
    "                rMatrix[m[i][j]][m[i+1][j]]=horizVert             \n",
    "                \n",
    "                if(j==0):\n",
    "                    rMatrix[m[i][j]][m[i+1][j+1]]=diagon\n",
    "                    \n",
    "                    rMatrix[m[i][j]][m[i][j+1]]=horizVert\n",
    "                    \n",
    "                if(j==num_col-1):\n",
    "                    rMatrix[m[i][j]][m[i+1][j-1]]=diagon\n",
    "                    \n",
    "                    rMatrix[m[i][j]][m[i][j-1]]=horizVert\n",
    "                    \n",
    "                if(0<j<num_col-1):\n",
    "                    rMatrix[m[i][j]][m[i+1][j-1]]=diagon  \n",
    "                    rMatrix[m[i][j]][m[i+1][j+1]]=diagon  \n",
    "                    \n",
    "                    rMatrix[m[i][j]][m[i][j+1]]=horizVert \n",
    "                    rMatrix[m[i][j]][m[i][j-1]]=horizVert \n",
    "                    \n",
    "            elif i==num_fil-1:\n",
    "                rMatrix[m[i][j]][m[i-1][j]]=horizVert  \n",
    "                if(j==0):\n",
    "                    rMatrix[m[i][j]][m[i-1][j+1]]=diagon  \n",
    "                    \n",
    "                    rMatrix[m[i][j]][m[i][j+1]]=horizVert  \n",
    "                if(j==num_col-1):\n",
    "                    rMatrix[m[i][j]][m[i-1][j-1]]=diagon  \n",
    "                    \n",
    "                    rMatrix[m[i][j]][m[i][j-1]]=horizVert  \n",
    "                if(0<j<num_col-1):\n",
    "                    rMatrix[m[i][j]][m[i-1][j+1]]=diagon  \n",
    "                    rMatrix[m[i][j]][m[i-1][j-1]]=diagon  \n",
    "                    \n",
    "                    rMatrix[m[i][j]][m[i][j+1]]=horizVert \n",
    "                    rMatrix[m[i][j]][m[i][j-1]]=horizVert  \n",
    "    return rMatrix"
   ]
  },
  {
   "cell_type": "code",
   "execution_count": 3,
   "metadata": {},
   "outputs": [],
   "source": [
    "def addObjetives(R,objetives):\n",
    "    for objetive in objetives:\n",
    "        for i in range(num_fil**2):\n",
    "            R[i][objetive] = 100 if (R[i][objetive]!=-1) else -1       \n",
    "        R[objetive][objetive] = 100\n",
    "    return R          "
   ]
  },
  {
   "cell_type": "code",
   "execution_count": 4,
   "metadata": {},
   "outputs": [],
   "source": [
    "def addLayerToMatrix(matrix, layer, count):\n",
    "    for i in range(layer):\n",
    "        \n",
    "        matrix[layer][i] = int(count)\n",
    "        count=count+1\n",
    "        \n",
    "    for i in range(layer+1):\n",
    "        \n",
    "        matrix[layer-i][layer] = int(count)\n",
    "        count=count+1\n",
    "        \n",
    "    return [matrix, count]"
   ]
  },
  {
   "cell_type": "code",
   "execution_count": 5,
   "metadata": {},
   "outputs": [],
   "source": [
    "def createMatrix(m,tam):\n",
    "    layer=0\n",
    "    for i in range(tam):\n",
    "        [m,layer]=addLayerToMatrix(m,i,layer)\n",
    "    return m"
   ]
  },
  {
   "cell_type": "code",
   "execution_count": 6,
   "metadata": {},
   "outputs": [],
   "source": [
    "def inicializeRMatrix(numRows, numCols):\n",
    "    return np.array([-1 for _ in range((numRows**2)*(numCols**2))]).reshape(numRows**2, numCols**2)"
   ]
  },
  {
   "cell_type": "markdown",
   "metadata": {},
   "source": [
    "Algoritmo de aprendizaje \n",
    "-----------------------------------------------------------"
   ]
  },
  {
   "cell_type": "code",
   "execution_count": 7,
   "metadata": {},
   "outputs": [],
   "source": [
    "def acciones ( matriz, estado ):\n",
    "    fila_estado = matriz [ estado , : ]\n",
    "    acciones = [ ]\n",
    "    for n in range ( len ( fila_estado ) ):\n",
    "        if (fila_estado [ n ] != -1):\n",
    "            acciones.append(n)\n",
    "    return (acciones)"
   ]
  },
  {
   "cell_type": "code",
   "execution_count": 8,
   "metadata": {},
   "outputs": [],
   "source": [
    "def acciones1 ( matriz, estado ):\n",
    "    rRow=matriz[estado]\n",
    "    possibleStatesIndex = np.where(rRow != -1)\n",
    "    acciones = possibleStatesIndex\n",
    "    return (acciones)"
   ]
  },
  {
   "cell_type": "code",
   "execution_count": 9,
   "metadata": {},
   "outputs": [],
   "source": [
    "def maxQValue(Q, R, estado):\n",
    "    #obtener los estados accesibles desde la matriz R\n",
    "    rRow = R[estado]\n",
    "    qRow = Q[estado]\n",
    "    possibleStatesIndex = np.where(rRow != -1)\n",
    "    #obtener los valores en la matriz Q\n",
    "    qLista=qRow[possibleStatesIndex]\n",
    "    #devolver el máximo\n",
    "    maxValue=np.amax(qLista)\n",
    "    return maxValue"
   ]
  },
  {
   "cell_type": "code",
   "execution_count": 36,
   "metadata": {},
   "outputs": [],
   "source": [
    "def entrenarQFase2 ( Q, R, Gamma, objetivo, num_episodios, alpha, epsilon ):\n",
    "    #Convertir los valores alpha y epsilon a decimales\n",
    "    alpha = float( alpha )\n",
    "    epsilon = float( epsilon )\n",
    "    while num_episodios > 0:\n",
    "        estado = random.randint ( 0, (num_fil**2) - 1 )\n",
    "\n",
    "        while ( estado != objetivo ):\n",
    "            #Selección aleatoria del número que va a ser comparado con epsilon\n",
    "            numero_aleatorio = random.uniform( 0, 1 ) \n",
    "            if numero_aleatorio < epsilon:\n",
    "                #Número aleatorio < epsilon --> Acción aleatoria\n",
    " #               rRow = R[estado]\n",
    " #               acciones = np.where(rRow != -1)\n",
    "                posiblesAcciones = np.asarray(acciones1(R,estado)).flatten()\n",
    "                accion_elegida = np.random.choice (posiblesAcciones)\n",
    "\n",
    "            else:\n",
    "                #Número aleatorio >= epsilon --> Seleccionamos la acción con el máximo valor en la tabla Q\n",
    "                qRow = Q [ estado ]\n",
    "                rRow = R[ estado ]\n",
    "        \n",
    "                posiblesAcciones = takePossibleActionsWithMax(qRow,rRow)\n",
    "#                posiblesAcciones= np.asarray(maxValueIndex).flatten()\n",
    "                accion_elegida = np.random.choice (posiblesAcciones)\n",
    "                print(\"pa\", posiblesAcciones,\"ae\", accion_elegida)\n",
    "            siguiente_estado = accion_elegida\n",
    "            Q [ estado, accion_elegida ] = R [ estado, accion_elegida ] + Gamma * maxQValue(Q,R,siguiente_estado)\n",
    "            estado = siguiente_estado\n",
    "        num_episodios = num_episodios - 1\n",
    "        epsilon = epsilon * alpha\n",
    "    return Q"
   ]
  },
  {
   "cell_type": "code",
   "execution_count": 51,
   "metadata": {},
   "outputs": [],
   "source": [
    "#####Falta obtener los estados con condicion qRow[i] == mavValue && rRow[i] != -1 ####\n",
    "def takePossibleActionsWithMax(qRow, rRow):\n",
    "    possibleStatesIndex = np.where(rRow != -1)\n",
    "    maxValue = np.max( qRow )\n",
    "    print(possibleStatesIndex)\n",
    "    possibleActions = []\n",
    "    for i in range (len(possibleStatesIndex)):\n",
    "        print(qRow[i], maxValue)\n",
    "        if(qRow[possibleStatesIndex[i]] == maxValue):\n",
    "               possibleActions.append(i)\n",
    "    return possibleActions"
   ]
  },
  {
   "cell_type": "code",
   "execution_count": 38,
   "metadata": {},
   "outputs": [],
   "source": [
    "def entrenarQFase1 ( Q, R, Gamma, objetivo, num_episodios ):\n",
    "    while num_episodios > 0:\n",
    "        estado = random.randint ( 0, num_fil**2 - 1 )\n",
    "        while ( estado != objetivo ):\n",
    "            #acciones = acciones ( R, estado )\n",
    "            accion_elegida = random.choice ( acciones ( R, estado ) , 1)\n",
    "            siguiente_estado = accion_elegida\n",
    "            Q [ estado, accion_elegida ] = R [ estado, accion_elegida ] + Gamma * maxQValue(Q,R,siguiente_estado)\n",
    "            estado = siguiente_estado\n",
    "        num_episodios = num_episodios - 1\n",
    "    return Q"
   ]
  },
  {
   "cell_type": "code",
   "execution_count": 12,
   "metadata": {},
   "outputs": [
    {
     "name": "stdin",
     "output_type": "stream",
     "text": [
      "¿Cuál es el estado objetivo? 15\n"
     ]
    }
   ],
   "source": [
    "objetivo = int(input('¿Cuál es el estado objetivo?'))"
   ]
  },
  {
   "cell_type": "code",
   "execution_count": 13,
   "metadata": {},
   "outputs": [
    {
     "name": "stdin",
     "output_type": "stream",
     "text": [
      "¿Cuál es el tamaño del problema?  5\n"
     ]
    }
   ],
   "source": [
    "size = int(input('¿Cuál es el tamaño del problema? '))\n",
    "num_col = size\n",
    "num_fil = size\n",
    "states = (num_col*num_fil)**2"
   ]
  },
  {
   "cell_type": "code",
   "execution_count": 14,
   "metadata": {},
   "outputs": [
    {
     "name": "stdin",
     "output_type": "stream",
     "text": [
      "Seleccione un parámetro alpha: [0,1]:  0.2\n",
      "Seleccione un parámetro epsilon: [0,1]:  0.2\n"
     ]
    }
   ],
   "source": [
    "alpha = input('Seleccione un parámetro alpha: [0,1]: ')\n",
    "epsilon = input('Seleccione un parámetro epsilon: [0,1]: ')"
   ]
  },
  {
   "cell_type": "code",
   "execution_count": 15,
   "metadata": {},
   "outputs": [],
   "source": [
    "zeroMatrix= np.zeros((num_fil,num_col))\n",
    "tablero = createMatrix(zeroMatrix,size).astype(int)\n",
    "rMatrix=obtainRMatrix(tablero, 10, 6)\n",
    "rMatrix=addObjetives(rMatrix,[objetivo])\n",
    "qMatrix = np.zeros((size**2,size**2)).astype(int)"
   ]
  },
  {
   "cell_type": "code",
   "execution_count": 52,
   "metadata": {},
   "outputs": [
    {
     "name": "stdout",
     "output_type": "stream",
     "text": [
      "(array([11, 12, 18, 20, 21], dtype=int64),)\n",
      "0 0\n"
     ]
    },
    {
     "ename": "ValueError",
     "evalue": "The truth value of an array with more than one element is ambiguous. Use a.any() or a.all()",
     "output_type": "error",
     "traceback": [
      "\u001b[1;31m---------------------------------------------------------------------------\u001b[0m",
      "\u001b[1;31mValueError\u001b[0m                                Traceback (most recent call last)",
      "\u001b[1;32m<ipython-input-52-87e345d525d2>\u001b[0m in \u001b[0;36m<module>\u001b[1;34m\u001b[0m\n\u001b[0;32m      1\u001b[0m \u001b[0mqMatrix\u001b[0m \u001b[1;33m=\u001b[0m \u001b[0mnp\u001b[0m\u001b[1;33m.\u001b[0m\u001b[0mzeros\u001b[0m\u001b[1;33m(\u001b[0m\u001b[1;33m(\u001b[0m\u001b[0msize\u001b[0m\u001b[1;33m**\u001b[0m\u001b[1;36m2\u001b[0m\u001b[1;33m,\u001b[0m\u001b[0msize\u001b[0m\u001b[1;33m**\u001b[0m\u001b[1;36m2\u001b[0m\u001b[1;33m)\u001b[0m\u001b[1;33m)\u001b[0m\u001b[1;33m.\u001b[0m\u001b[0mastype\u001b[0m\u001b[1;33m(\u001b[0m\u001b[0mint\u001b[0m\u001b[1;33m)\u001b[0m\u001b[1;33m\u001b[0m\u001b[1;33m\u001b[0m\u001b[0m\n\u001b[1;32m----> 2\u001b[1;33m \u001b[0mentrenarQFase2\u001b[0m\u001b[1;33m(\u001b[0m\u001b[0mqMatrix\u001b[0m\u001b[1;33m,\u001b[0m \u001b[0mrMatrix\u001b[0m\u001b[1;33m,\u001b[0m \u001b[1;36m0.8\u001b[0m\u001b[1;33m,\u001b[0m \u001b[0mobjetivo\u001b[0m\u001b[1;33m,\u001b[0m \u001b[1;36m1000\u001b[0m\u001b[1;33m,\u001b[0m \u001b[0malpha\u001b[0m\u001b[1;33m,\u001b[0m \u001b[0mepsilon\u001b[0m\u001b[1;33m)\u001b[0m\u001b[1;33m\u001b[0m\u001b[1;33m\u001b[0m\u001b[0m\n\u001b[0m",
      "\u001b[1;32m<ipython-input-36-84344fa9fc83>\u001b[0m in \u001b[0;36mentrenarQFase2\u001b[1;34m(Q, R, Gamma, objetivo, num_episodios, alpha, epsilon)\u001b[0m\n\u001b[0;32m     21\u001b[0m                 \u001b[0mrRow\u001b[0m \u001b[1;33m=\u001b[0m \u001b[0mR\u001b[0m\u001b[1;33m[\u001b[0m \u001b[0mestado\u001b[0m \u001b[1;33m]\u001b[0m\u001b[1;33m\u001b[0m\u001b[1;33m\u001b[0m\u001b[0m\n\u001b[0;32m     22\u001b[0m \u001b[1;33m\u001b[0m\u001b[0m\n\u001b[1;32m---> 23\u001b[1;33m                 \u001b[0mposiblesAcciones\u001b[0m \u001b[1;33m=\u001b[0m \u001b[0mtakePossibleActionsWithMax\u001b[0m\u001b[1;33m(\u001b[0m\u001b[0mqRow\u001b[0m\u001b[1;33m,\u001b[0m\u001b[0mrRow\u001b[0m\u001b[1;33m)\u001b[0m\u001b[1;33m\u001b[0m\u001b[1;33m\u001b[0m\u001b[0m\n\u001b[0m\u001b[0;32m     24\u001b[0m \u001b[1;31m#                posiblesAcciones= np.asarray(maxValueIndex).flatten()\u001b[0m\u001b[1;33m\u001b[0m\u001b[1;33m\u001b[0m\u001b[1;33m\u001b[0m\u001b[0m\n\u001b[0;32m     25\u001b[0m                 \u001b[0maccion_elegida\u001b[0m \u001b[1;33m=\u001b[0m \u001b[0mnp\u001b[0m\u001b[1;33m.\u001b[0m\u001b[0mrandom\u001b[0m\u001b[1;33m.\u001b[0m\u001b[0mchoice\u001b[0m \u001b[1;33m(\u001b[0m\u001b[0mposiblesAcciones\u001b[0m\u001b[1;33m)\u001b[0m\u001b[1;33m\u001b[0m\u001b[1;33m\u001b[0m\u001b[0m\n",
      "\u001b[1;32m<ipython-input-51-e402396893be>\u001b[0m in \u001b[0;36mtakePossibleActionsWithMax\u001b[1;34m(qRow, rRow)\u001b[0m\n\u001b[0;32m      6\u001b[0m     \u001b[1;32mfor\u001b[0m \u001b[0mi\u001b[0m \u001b[1;32min\u001b[0m \u001b[0mrange\u001b[0m \u001b[1;33m(\u001b[0m\u001b[0mlen\u001b[0m\u001b[1;33m(\u001b[0m\u001b[0mpossibleStatesIndex\u001b[0m\u001b[1;33m)\u001b[0m\u001b[1;33m)\u001b[0m\u001b[1;33m:\u001b[0m\u001b[1;33m\u001b[0m\u001b[1;33m\u001b[0m\u001b[0m\n\u001b[0;32m      7\u001b[0m         \u001b[0mprint\u001b[0m\u001b[1;33m(\u001b[0m\u001b[0mqRow\u001b[0m\u001b[1;33m[\u001b[0m\u001b[0mi\u001b[0m\u001b[1;33m]\u001b[0m\u001b[1;33m,\u001b[0m \u001b[0mmaxValue\u001b[0m\u001b[1;33m)\u001b[0m\u001b[1;33m\u001b[0m\u001b[1;33m\u001b[0m\u001b[0m\n\u001b[1;32m----> 8\u001b[1;33m         \u001b[1;32mif\u001b[0m\u001b[1;33m(\u001b[0m\u001b[0mqRow\u001b[0m\u001b[1;33m[\u001b[0m\u001b[0mpossibleStatesIndex\u001b[0m\u001b[1;33m[\u001b[0m\u001b[0mi\u001b[0m\u001b[1;33m]\u001b[0m\u001b[1;33m]\u001b[0m \u001b[1;33m==\u001b[0m \u001b[0mmaxValue\u001b[0m\u001b[1;33m)\u001b[0m\u001b[1;33m:\u001b[0m\u001b[1;33m\u001b[0m\u001b[1;33m\u001b[0m\u001b[0m\n\u001b[0m\u001b[0;32m      9\u001b[0m                \u001b[0mpossibleActions\u001b[0m\u001b[1;33m.\u001b[0m\u001b[0mappend\u001b[0m\u001b[1;33m(\u001b[0m\u001b[0mi\u001b[0m\u001b[1;33m)\u001b[0m\u001b[1;33m\u001b[0m\u001b[1;33m\u001b[0m\u001b[0m\n\u001b[0;32m     10\u001b[0m     \u001b[1;32mreturn\u001b[0m \u001b[0mpossibleActions\u001b[0m\u001b[1;33m\u001b[0m\u001b[1;33m\u001b[0m\u001b[0m\n",
      "\u001b[1;31mValueError\u001b[0m: The truth value of an array with more than one element is ambiguous. Use a.any() or a.all()"
     ]
    }
   ],
   "source": [
    "qMatrix = np.zeros((size**2,size**2)).astype(int)\n",
    "entrenarQFase2(qMatrix, rMatrix, 0.8, objetivo, 1000, alpha, epsilon)"
   ]
  },
  {
   "cell_type": "code",
   "execution_count": 365,
   "metadata": {},
   "outputs": [
    {
     "data": {
      "text/plain": [
       "array([[ -1,  10,   6,  10,  -1,  -1,  -1,  -1,  -1,  -1,  -1,  -1,  -1,\n",
       "         -1,  -1,  -1,  -1,  -1,  -1,  -1,  -1,  -1,  -1,  -1,  -1],\n",
       "       [ 10,  -1,  10,   6,  10,   6,  -1,  -1,  -1,  -1,  -1,  -1,  -1,\n",
       "         -1,  -1,  -1,  -1,  -1,  -1,  -1,  -1,  -1,  -1,  -1,  -1],\n",
       "       [  6,  10,  -1,  10,   6,  10,   6,  10,   6,  -1,  -1,  -1,  -1,\n",
       "         -1,  -1,  -1,  -1,  -1,  -1,  -1,  -1,  -1,  -1,  -1,  -1],\n",
       "       [ 10,   6,  10,  -1,  -1,  -1,  -1,   6,  10,  -1,  -1,  -1,  -1,\n",
       "         -1,  -1,  -1,  -1,  -1,  -1,  -1,  -1,  -1,  -1,  -1,  -1],\n",
       "       [ -1,  10,   6,  -1,  -1,  10,  -1,  -1,  -1,  10,   6,  -1,  -1,\n",
       "         -1,  -1,  -1,  -1,  -1,  -1,  -1,  -1,  -1,  -1,  -1,  -1],\n",
       "       [ -1,   6,  10,  -1,  10,  -1,  10,   6,  -1,   6,  10,   6,  -1,\n",
       "         -1,  -1,  -1,  -1,  -1,  -1,  -1,  -1,  -1,  -1,  -1,  -1],\n",
       "       [ -1,  -1,   6,  -1,  -1,  10,  -1,  10,  -1,  -1,   6,  10,   6,\n",
       "         10,   6,  -1,  -1,  -1,  -1,  -1,  -1,  -1,  -1,  -1,  -1],\n",
       "       [ -1,  -1,  10,   6,  -1,   6,  10,  -1,  10,  -1,  -1,  -1,  -1,\n",
       "          6,  10, 100,  -1,  -1,  -1,  -1,  -1,  -1,  -1,  -1,  -1],\n",
       "       [ -1,  -1,   6,  10,  -1,  -1,  -1,  10,  -1,  -1,  -1,  -1,  -1,\n",
       "         -1,   6, 100,  -1,  -1,  -1,  -1,  -1,  -1,  -1,  -1,  -1],\n",
       "       [ -1,  -1,  -1,  -1,  10,   6,  -1,  -1,  -1,  -1,  10,  -1,  -1,\n",
       "         -1,  -1,  -1,  10,   6,  -1,  -1,  -1,  -1,  -1,  -1,  -1],\n",
       "       [ -1,  -1,  -1,  -1,   6,  10,   6,  -1,  -1,  10,  -1,  10,  -1,\n",
       "         -1,  -1,  -1,   6,  10,   6,  -1,  -1,  -1,  -1,  -1,  -1],\n",
       "       [ -1,  -1,  -1,  -1,  -1,   6,  10,  -1,  -1,  -1,  10,  -1,  10,\n",
       "          6,  -1,  -1,  -1,   6,  10,   6,  -1,  -1,  -1,  -1,  -1],\n",
       "       [ -1,  -1,  -1,  -1,  -1,  -1,   6,  -1,  -1,  -1,  -1,  10,  -1,\n",
       "         10,  -1,  -1,  -1,  -1,   6,  10,   6,  10,   6,  -1,  -1],\n",
       "       [ -1,  -1,  -1,  -1,  -1,  -1,  10,   6,  -1,  -1,  -1,   6,  10,\n",
       "         -1,  10,  -1,  -1,  -1,  -1,  -1,  -1,   6,  10,   6,  -1],\n",
       "       [ -1,  -1,  -1,  -1,  -1,  -1,   6,  10,   6,  -1,  -1,  -1,  -1,\n",
       "         10,  -1, 100,  -1,  -1,  -1,  -1,  -1,  -1,   6,  10,   6],\n",
       "       [ -1,  -1,  -1,  -1,  -1,  -1,  -1,   6,  10,  -1,  -1,  -1,  -1,\n",
       "         -1,  10, 100,  -1,  -1,  -1,  -1,  -1,  -1,  -1,   6,  10],\n",
       "       [ -1,  -1,  -1,  -1,  -1,  -1,  -1,  -1,  -1,  10,   6,  -1,  -1,\n",
       "         -1,  -1,  -1,  -1,  10,  -1,  -1,  -1,  -1,  -1,  -1,  -1],\n",
       "       [ -1,  -1,  -1,  -1,  -1,  -1,  -1,  -1,  -1,   6,  10,   6,  -1,\n",
       "         -1,  -1,  -1,  10,  -1,  10,  -1,  -1,  -1,  -1,  -1,  -1],\n",
       "       [ -1,  -1,  -1,  -1,  -1,  -1,  -1,  -1,  -1,  -1,   6,  10,   6,\n",
       "         -1,  -1,  -1,  -1,  10,  -1,  10,  -1,  -1,  -1,  -1,  -1],\n",
       "       [ -1,  -1,  -1,  -1,  -1,  -1,  -1,  -1,  -1,  -1,  -1,   6,  10,\n",
       "         -1,  -1,  -1,  -1,  -1,  10,  -1,  10,   6,  -1,  -1,  -1],\n",
       "       [ -1,  -1,  -1,  -1,  -1,  -1,  -1,  -1,  -1,  -1,  -1,  -1,   6,\n",
       "         -1,  -1,  -1,  -1,  -1,  -1,  10,  -1,  10,  -1,  -1,  -1],\n",
       "       [ -1,  -1,  -1,  -1,  -1,  -1,  -1,  -1,  -1,  -1,  -1,  -1,  10,\n",
       "          6,  -1,  -1,  -1,  -1,  -1,   6,  10,  -1,  10,  -1,  -1],\n",
       "       [ -1,  -1,  -1,  -1,  -1,  -1,  -1,  -1,  -1,  -1,  -1,  -1,   6,\n",
       "         10,   6,  -1,  -1,  -1,  -1,  -1,  -1,  10,  -1,  10,  -1],\n",
       "       [ -1,  -1,  -1,  -1,  -1,  -1,  -1,  -1,  -1,  -1,  -1,  -1,  -1,\n",
       "          6,  10, 100,  -1,  -1,  -1,  -1,  -1,  -1,  10,  -1,  10],\n",
       "       [ -1,  -1,  -1,  -1,  -1,  -1,  -1,  -1,  -1,  -1,  -1,  -1,  -1,\n",
       "         -1,   6, 100,  -1,  -1,  -1,  -1,  -1,  -1,  -1,  10,  -1]])"
      ]
     },
     "execution_count": 365,
     "metadata": {},
     "output_type": "execute_result"
    }
   ],
   "source": [
    "rMatrix"
   ]
  },
  {
   "cell_type": "code",
   "execution_count": 208,
   "metadata": {},
   "outputs": [
    {
     "ename": "NameError",
     "evalue": "name 'R' is not defined",
     "output_type": "error",
     "traceback": [
      "\u001b[1;31m---------------------------------------------------------------------------\u001b[0m",
      "\u001b[1;31mNameError\u001b[0m                                 Traceback (most recent call last)",
      "\u001b[1;32m<ipython-input-208-f7e778a7d496>\u001b[0m in \u001b[0;36m<module>\u001b[1;34m\u001b[0m\n\u001b[0;32m      1\u001b[0m \u001b[0mqMatrix\u001b[0m \u001b[1;33m=\u001b[0m \u001b[0mnp\u001b[0m\u001b[1;33m.\u001b[0m\u001b[0mzeros\u001b[0m\u001b[1;33m(\u001b[0m\u001b[1;33m(\u001b[0m\u001b[0msize\u001b[0m\u001b[1;33m**\u001b[0m\u001b[1;36m2\u001b[0m\u001b[1;33m,\u001b[0m\u001b[0msize\u001b[0m\u001b[1;33m**\u001b[0m\u001b[1;36m2\u001b[0m\u001b[1;33m)\u001b[0m\u001b[1;33m)\u001b[0m\u001b[1;33m.\u001b[0m\u001b[0mastype\u001b[0m\u001b[1;33m(\u001b[0m\u001b[0mint\u001b[0m\u001b[1;33m)\u001b[0m\u001b[1;33m\u001b[0m\u001b[1;33m\u001b[0m\u001b[0m\n\u001b[1;32m----> 2\u001b[1;33m \u001b[0mentrenarQFase1\u001b[0m\u001b[1;33m(\u001b[0m\u001b[0mqMatrix\u001b[0m\u001b[1;33m,\u001b[0m \u001b[0mrMatrix\u001b[0m\u001b[1;33m,\u001b[0m \u001b[1;36m0.8\u001b[0m\u001b[1;33m,\u001b[0m \u001b[0mobjetivo\u001b[0m\u001b[1;33m,\u001b[0m \u001b[1;36m10000\u001b[0m\u001b[1;33m)\u001b[0m\u001b[1;33m\u001b[0m\u001b[1;33m\u001b[0m\u001b[0m\n\u001b[0m",
      "\u001b[1;32m<ipython-input-188-c1b0cc8485a3>\u001b[0m in \u001b[0;36mentrenarQFase1\u001b[1;34m(Q, R, Gamma, objetivo, num_episodios)\u001b[0m\n\u001b[0;32m      4\u001b[0m         \u001b[1;32mwhile\u001b[0m \u001b[1;33m(\u001b[0m \u001b[0mestado\u001b[0m \u001b[1;33m!=\u001b[0m \u001b[0mobjetivo\u001b[0m \u001b[1;33m)\u001b[0m\u001b[1;33m:\u001b[0m\u001b[1;33m\u001b[0m\u001b[1;33m\u001b[0m\u001b[0m\n\u001b[0;32m      5\u001b[0m             \u001b[1;31m#acciones = acciones ( R, estado )\u001b[0m\u001b[1;33m\u001b[0m\u001b[1;33m\u001b[0m\u001b[1;33m\u001b[0m\u001b[0m\n\u001b[1;32m----> 6\u001b[1;33m             \u001b[0maccion_elegida\u001b[0m \u001b[1;33m=\u001b[0m \u001b[0mrandom\u001b[0m\u001b[1;33m.\u001b[0m\u001b[0mchoice\u001b[0m \u001b[1;33m(\u001b[0m \u001b[0macciones\u001b[0m \u001b[1;33m(\u001b[0m \u001b[0mR\u001b[0m\u001b[1;33m,\u001b[0m \u001b[0mestado\u001b[0m \u001b[1;33m)\u001b[0m \u001b[1;33m)\u001b[0m\u001b[1;33m\u001b[0m\u001b[1;33m\u001b[0m\u001b[0m\n\u001b[0m\u001b[0;32m      7\u001b[0m             \u001b[0msiguiente_estado\u001b[0m \u001b[1;33m=\u001b[0m \u001b[0maccion_elegida\u001b[0m\u001b[1;33m\u001b[0m\u001b[1;33m\u001b[0m\u001b[0m\n\u001b[0;32m      8\u001b[0m             \u001b[0mQ\u001b[0m \u001b[1;33m[\u001b[0m \u001b[0mestado\u001b[0m\u001b[1;33m,\u001b[0m \u001b[0maccion_elegida\u001b[0m \u001b[1;33m]\u001b[0m \u001b[1;33m=\u001b[0m \u001b[0mR\u001b[0m \u001b[1;33m[\u001b[0m \u001b[0mestado\u001b[0m\u001b[1;33m,\u001b[0m \u001b[0maccion_elegida\u001b[0m \u001b[1;33m]\u001b[0m \u001b[1;33m+\u001b[0m \u001b[0mGamma\u001b[0m \u001b[1;33m*\u001b[0m \u001b[0mmaxQValue\u001b[0m\u001b[1;33m(\u001b[0m\u001b[0mQ\u001b[0m\u001b[1;33m,\u001b[0m\u001b[0mR\u001b[0m\u001b[1;33m,\u001b[0m\u001b[0msiguiente_estado\u001b[0m\u001b[1;33m)\u001b[0m\u001b[1;33m\u001b[0m\u001b[1;33m\u001b[0m\u001b[0m\n",
      "\u001b[1;32m<ipython-input-205-533681816a3a>\u001b[0m in \u001b[0;36macciones\u001b[1;34m(matriz, estado)\u001b[0m\n\u001b[0;32m      1\u001b[0m \u001b[1;32mdef\u001b[0m \u001b[0macciones\u001b[0m \u001b[1;33m(\u001b[0m \u001b[0mmatriz\u001b[0m\u001b[1;33m,\u001b[0m \u001b[0mestado\u001b[0m \u001b[1;33m)\u001b[0m\u001b[1;33m:\u001b[0m\u001b[1;33m\u001b[0m\u001b[1;33m\u001b[0m\u001b[0m\n\u001b[1;32m----> 2\u001b[1;33m     \u001b[0mrRow\u001b[0m\u001b[1;33m=\u001b[0m\u001b[0mR\u001b[0m\u001b[1;33m[\u001b[0m\u001b[0mestado\u001b[0m\u001b[1;33m]\u001b[0m\u001b[1;33m\u001b[0m\u001b[1;33m\u001b[0m\u001b[0m\n\u001b[0m\u001b[0;32m      3\u001b[0m     \u001b[0mpossibleStatesIndex\u001b[0m \u001b[1;33m=\u001b[0m \u001b[0mnp\u001b[0m\u001b[1;33m.\u001b[0m\u001b[0mwhere\u001b[0m\u001b[1;33m(\u001b[0m\u001b[0mrRow\u001b[0m \u001b[1;33m!=\u001b[0m \u001b[1;33m-\u001b[0m\u001b[1;36m1\u001b[0m\u001b[1;33m)\u001b[0m\u001b[1;33m\u001b[0m\u001b[1;33m\u001b[0m\u001b[0m\n\u001b[0;32m      4\u001b[0m     \u001b[0macciones\u001b[0m \u001b[1;33m=\u001b[0m \u001b[0mpossibleStatesIndex\u001b[0m\u001b[1;33m\u001b[0m\u001b[1;33m\u001b[0m\u001b[0m\n\u001b[0;32m      5\u001b[0m     \u001b[1;32mreturn\u001b[0m \u001b[1;33m(\u001b[0m\u001b[0macciones\u001b[0m\u001b[1;33m)\u001b[0m\u001b[1;33m\u001b[0m\u001b[1;33m\u001b[0m\u001b[0m\n",
      "\u001b[1;31mNameError\u001b[0m: name 'R' is not defined"
     ]
    }
   ],
   "source": [
    "qMatrix = np.zeros((size**2,size**2)).astype(int)\n",
    "entrenarQFase1(qMatrix, rMatrix, 0.8, objetivo, 10000)"
   ]
  },
  {
   "cell_type": "code",
   "execution_count": 17,
   "metadata": {},
   "outputs": [],
   "source": [
    "qMatrix=(qMatrix/np.max(qMatrix))*100"
   ]
  },
  {
   "cell_type": "markdown",
   "metadata": {},
   "source": [
    "Camino eficiente\n",
    "-----------------------------------------------------------"
   ]
  },
  {
   "cell_type": "code",
   "execution_count": 18,
   "metadata": {},
   "outputs": [],
   "source": [
    "def findOptimalWay(initialState, Q, objetive):\n",
    "    #paso1 \n",
    "    actualState = initialState\n",
    "    camino = [initialState]\n",
    "    contador=0\n",
    "    totalValue=0\n",
    "    #paso2\n",
    "    while(actualState!=objetive):\n",
    "        qRow = Q[actualState]\n",
    "        maxValue = np.max(qRow)\n",
    "        maxValueIndex = np.where(qRow == maxValue)\n",
    "        nextState=maxValueIndex[0][0]\n",
    "        camino.append(nextState)\n",
    "        #paso3\n",
    "        totalValue += maxValue \n",
    "        actualState=nextState\n",
    "        print(actualState)\n",
    "        contador=contador+1\n",
    "    return camino, contador, totalValue\n",
    "    "
   ]
  },
  {
   "cell_type": "code",
   "execution_count": 24,
   "metadata": {},
   "outputs": [
    {
     "name": "stdout",
     "output_type": "stream",
     "text": [
      "21\n",
      "19\n",
      "14\n",
      "15\n"
     ]
    },
    {
     "data": {
      "text/plain": [
       "[12, 21, 19, 14, 15]"
      ]
     },
     "execution_count": 24,
     "metadata": {},
     "output_type": "execute_result"
    }
   ],
   "source": [
    "[camino,contador,totalValue]=findOptimalWay(12, qMatrix, objetivo)\n",
    "camino"
   ]
  },
  {
   "cell_type": "code",
   "execution_count": 25,
   "metadata": {},
   "outputs": [
    {
     "data": {
      "text/plain": [
       "array([[ 0,  3,  8, 15, 24],\n",
       "       [ 1,  2,  7, 14, 23],\n",
       "       [ 4,  5,  6, 13, 22],\n",
       "       [ 9, 10, 11, 12, 21],\n",
       "       [16, 17, 18, 19, 20]])"
      ]
     },
     "execution_count": 25,
     "metadata": {},
     "output_type": "execute_result"
    }
   ],
   "source": [
    "tablero"
   ]
  },
  {
   "cell_type": "code",
   "execution_count": 148,
   "metadata": {},
   "outputs": [
    {
     "data": {
      "text/plain": [
       "array([[  0,  36,  39,  66,   0,   0,   0,   0,   0,   0,   0,   0,   0,\n",
       "          0,   0,   0,   0,   0,   0,   0,   0,   0,   0,   0,   0],\n",
       "       [ 62,   0,  46,  39,   0,  39,   0,   0,   0,   0,   0,   0,   0,\n",
       "          0,   0,   0,   0,   0,   0,   0,   0,   0,   0,   0,   0],\n",
       "       [ 39,  46,   0,  46,  33,  18,  75,  46,  39,   0,   0,   0,   0,\n",
       "          0,   0,   0,   0,   0,   0,   0,   0,   0,   0,   0,   0],\n",
       "       [ 43,  39,  70,   0,   0,   0,   0,  39,  24,   0,   0,   0,   0,\n",
       "          0,   0,   0,   0,   0,   0,   0,   0,   0,   0,   0,   0],\n",
       "       [ 29,  59,   0,   0,   0,   0,   0,   0,   0,   0,  11,   0,   0,\n",
       "          0,   0,   0,   0,   0,   0,   0,   0,   0,   0,   0,   0],\n",
       "       [ 35,   0,  46,   0,  10,   0,  12,  83,   0,   3,   0,   3,   0,\n",
       "          0,   0,   0,   0,   0,   0,   0,   0,   0,   0,   0,   0],\n",
       "       [ 35,   0,   0,   0,   0,   0,   0,  90,   0,   0,   0,   0,   0,\n",
       "          0,   3,   0,   0,   0,   0,   0,   0,   0,   0,   0,   0],\n",
       "       [  0,   0,  70,  39,   0,   0,  46,   0,  46,   0,   0,   0,   0,\n",
       "          3,   0, 100,   0,   0,   0,   0,   0,   0,   0,   0,   0],\n",
       "       [ -1,  35,   0,  66,   0,   0,   0,  18,   0,   0,   0,   0,   0,\n",
       "          0,   0,   0,   0,   0,   0,   0,   0,   0,   0,   0,   0],\n",
       "       [  0,   0,   0,   0,   0,   0,   0,   0,   0,   0,  25,   0,   0,\n",
       "          0,   0,   0,   0,   0,   0,   0,   0,   0,   0,   0,   0],\n",
       "       [  0,   0,   0,   0,   0,   0,   0,   0,   0,   0,   0,  19,   0,\n",
       "          0,   0,   0,   0,   0,   0,   0,   0,   0,   0,   0,   0],\n",
       "       [ 51,   0,   0,   0,   0,   0,  12,   0,   0,   0,   0,   0,   0,\n",
       "          0,   0,   0,   0,   0,   0,   0,   0,   0,   0,   0,   0],\n",
       "       [ 51,   0,   0,   0,   0,   0,   0,   0,   0,   0,   0,   0,   0,\n",
       "          0,   0,   0,   0,   0,   0,   0,   0,   0,   0,   0,   0],\n",
       "       [ 51,   0,   0,   0,   0,   0,   0,   0,   0,   0,   0,   0,   0,\n",
       "          0,   0,   0,   0,   0,   0,   0,   0,   0,   0,   0,   0],\n",
       "       [ 51,   0,   0,   0,   0,   0,   0,   0,   0,   0,   0,   0,   0,\n",
       "          0,   0,   0,   0,   0,   0,   0,   0,   0,   0,   0,   0],\n",
       "       [  0,   0,   0,   0,   0,   0,   0,   0,   0,   0,   0,   0,   0,\n",
       "          0,   0,   0,   0,   0,   0,   0,   0,   0,   0,   0,   0],\n",
       "       [ 51,   0,   0,   0,   0,   0,   0,   0,   0,   0,   0,   0,   0,\n",
       "          0,   0,   0,   0,   0,   0,   0,   0,   0,   0,   0,   0],\n",
       "       [ 51,   0,   0,   0,   0,   0,   0,   0,   0,   0,   0,   0,   0,\n",
       "          0,   0,   0,   0,   0,   0,   0,   0,   0,   0,   0,   0],\n",
       "       [ 51,   0,   0,   0,   0,   0,   0,   0,   0,   0,   0,   0,   0,\n",
       "          0,   0,   0,   0,   0,   0,   0,   0,   0,   0,   0,   0],\n",
       "       [ 51,   0,   0,   0,   0,   0,   0,   0,   0,   0,   0,   0,   0,\n",
       "          0,   0,   0,   0,   0,   0,   0,   0,   0,   0,   0,   0],\n",
       "       [ 51,   0,   0,   0,   0,   0,   0,   0,   0,   0,   0,   0,   0,\n",
       "          0,   0,   0,   0,   0,   0,   0,   0,   0,   0,   0,   0],\n",
       "       [ 51,   0,   0,   0,   0,   0,   0,   0,   0,   0,   0,   0,   0,\n",
       "          0,   0,   0,   0,   0,   0,   0,   0,   0,   0,   0,   0],\n",
       "       [ 51,   0,   0,   0,   0,   0,   0,   0,   0,   0,   0,   0,   0,\n",
       "          0,   0,   0,   0,   0,   0,   0,   0,   0,   0,   0,   0],\n",
       "       [ 51,   0,   0,   0,   0,   0,   0,   0,   0,   0,   0,   0,   0,\n",
       "          0,   0,   0,   0,   0,   0,   0,   0,   0,   0,   0,   0],\n",
       "       [ 51,   0,   0,   0,   0,   0,   0,   0,   0,   0,   0,   0,   0,\n",
       "          0,   0,   0,   0,   0,   0,   0,   0,   0,   0,   0,   0]])"
      ]
     },
     "execution_count": 148,
     "metadata": {},
     "output_type": "execute_result"
    }
   ],
   "source": [
    "qMatrix"
   ]
  },
  {
   "cell_type": "code",
   "execution_count": null,
   "metadata": {},
   "outputs": [],
   "source": [
    "\n",
    "\n",
    "tablero"
   ]
  },
  {
   "cell_type": "code",
   "execution_count": null,
   "metadata": {},
   "outputs": [],
   "source": []
  }
 ],
 "metadata": {
  "kernelspec": {
   "display_name": "Python 3",
   "language": "python",
   "name": "python3"
  },
  "language_info": {
   "codemirror_mode": {
    "name": "ipython",
    "version": 3
   },
   "file_extension": ".py",
   "mimetype": "text/x-python",
   "name": "python",
   "nbconvert_exporter": "python",
   "pygments_lexer": "ipython3",
   "version": "3.7.6"
  }
 },
 "nbformat": 4,
 "nbformat_minor": 4
}
