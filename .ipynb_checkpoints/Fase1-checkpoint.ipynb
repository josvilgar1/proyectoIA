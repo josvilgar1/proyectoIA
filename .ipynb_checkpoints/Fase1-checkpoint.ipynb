{
 "cells": [
  {
   "cell_type": "code",
   "execution_count": 101,
   "metadata": {},
   "outputs": [],
   "source": [
    "import numpy as np\n",
    "import random as random"
   ]
  },
  {
   "cell_type": "code",
   "execution_count": 248,
   "metadata": {},
   "outputs": [],
   "source": [
    "def obtainRMatrix(m):\n",
    "    Rsize = size**2\n",
    "    rMatrix = inicializeRMatrix(num_col,num_fil)\n",
    "    res=[]\n",
    "    for i in range(num_fil):\n",
    "        for j in range(num_col):\n",
    "            n0 = m[i][j]\n",
    "            if 0<i<num_fil-1:\n",
    "                rMatrix[m[i][j]][m[i-1][j]]=0\n",
    "                rMatrix[m[i][j]][m[i+1][j]]=0\n",
    "                \n",
    "                if(0<j<num_col-1):\n",
    "                    rMatrix[m[i][j]][m[i-1][j-1]]=0\n",
    "                    rMatrix[m[i][j]][m[i][j-1]]=0\n",
    "                    rMatrix[m[i][j]][m[i-1][j+1]]=0\n",
    "                    rMatrix[m[i][j]][m[i+1][j-1]]=0\n",
    "                    rMatrix[m[i][j]][m[i+1][j+1]]=0\n",
    "                    rMatrix[m[i][j]][m[i][j+1]]=0\n",
    "                    \n",
    "                if(j==0):\n",
    "                    rMatrix[m[i][j]][m[i-1][j+1]]=0\n",
    "                    rMatrix[m[i][j]][m[i][j+1]]=0\n",
    "                    rMatrix[m[i][j]][m[i+1][j+1]]=0\n",
    "                    \n",
    "                if(j==num_col-1):\n",
    "                    rMatrix[m[i][j]][m[i-1][j-1]]=0\n",
    "                    rMatrix[m[i][j]][m[i][j-1]]=0\n",
    "                    rMatrix[m[i][j]][m[i+1][j-1]]=0  \n",
    "                    \n",
    "            elif(i==0):\n",
    "                rMatrix[m[i][j]][m[i+1][j]]=0             \n",
    "                \n",
    "                if(j==0):\n",
    "                    rMatrix[m[i][j]][m[i+1][j+1]]=0             \n",
    "                    rMatrix[m[i][j]][m[i][j+1]]=0   \n",
    "                    \n",
    "                if(j==num_col-1):\n",
    "                    rMatrix[m[i][j]][m[i+1][j-1]]=0  \n",
    "                    rMatrix[m[i][j]][m[i][j-1]]=0 \n",
    "                    \n",
    "                if(0<j<num_col-1):\n",
    "                    rMatrix[m[i][j]][m[i+1][j-1]]=0  \n",
    "                    rMatrix[m[i][j]][m[i+1][j+1]]=0  \n",
    "                    rMatrix[m[i][j]][m[i][j+1]]=0  \n",
    "                    rMatrix[m[i][j]][m[i][j-1]]=0  \n",
    "                    \n",
    "            elif i==num_fil-1:\n",
    "                rMatrix[m[i][j]][m[i-1][j]]=0  \n",
    "                if(j==0):\n",
    "                    rMatrix[m[i][j]][m[i-1][j+1]]=0  \n",
    "                    rMatrix[m[i][j]][m[i][j+1]]=0  \n",
    "                if(j==num_col-1):\n",
    "                    rMatrix[m[i][j]][m[i-1][j-1]]=0  \n",
    "                    rMatrix[m[i][j]][m[i][j-1]]=0  \n",
    "                if(0<j<num_col-1):\n",
    "                    rMatrix[m[i][j]][m[i-1][j+1]]=0  \n",
    "                    rMatrix[m[i][j]][m[i-1][j-1]]=0  \n",
    "                    rMatrix[m[i][j]][m[i][j+1]]=0  \n",
    "                    rMatrix[m[i][j]][m[i][j-1]]=0  \n",
    "    return rMatrix"
   ]
  },
  {
   "cell_type": "code",
   "execution_count": 274,
   "metadata": {},
   "outputs": [],
   "source": [
    "def addObjetives(R,objetives):\n",
    "    for objetive in objetives:\n",
    "        for i in range(num_fil**2):\n",
    "            R[i][objetive] = 100 if (R[i][objetive]==0) else -1       \n",
    "        R[objetive][objetive] = 100\n",
    "    return R          "
   ]
  },
  {
   "cell_type": "code",
   "execution_count": 250,
   "metadata": {},
   "outputs": [
    {
     "data": {
      "text/plain": [
       "9"
      ]
     },
     "execution_count": 250,
     "metadata": {},
     "output_type": "execute_result"
    }
   ],
   "source": [
    "np.size(rMatrix[0])"
   ]
  },
  {
   "cell_type": "code",
   "execution_count": 251,
   "metadata": {},
   "outputs": [],
   "source": [
    "def addLayerToMatrix(matrix, layer, count):\n",
    "    for i in range(layer):\n",
    "        \n",
    "        matrix[layer][i] = int(count)\n",
    "        count=count+1\n",
    "        \n",
    "    for i in range(layer+1):\n",
    "        \n",
    "        matrix[layer-i][layer] = int(count)\n",
    "        count=count+1\n",
    "        \n",
    "    return [matrix, count]"
   ]
  },
  {
   "cell_type": "code",
   "execution_count": 252,
   "metadata": {},
   "outputs": [],
   "source": [
    "def createMatrix(m,tam):\n",
    "    layer=0\n",
    "    for i in range(tam):\n",
    "        [m,layer]=addLayerToMatrix(m,i,layer)\n",
    "    return m"
   ]
  },
  {
   "cell_type": "code",
   "execution_count": 253,
   "metadata": {},
   "outputs": [],
   "source": [
    "def inicializeRMatrix(numRows, numCols):\n",
    "    return np.array([-1 for _ in range((numRows**2)*(numCols**2))]).reshape(numRows**2, numCols**2)"
   ]
  },
  {
   "cell_type": "code",
   "execution_count": 254,
   "metadata": {},
   "outputs": [
    {
     "name": "stdin",
     "output_type": "stream",
     "text": [
      "¿Cuál es el tamaño del problema?  3\n"
     ]
    }
   ],
   "source": [
    "size = int(input('¿Cuál es el tamaño del problema? '))\n",
    "num_col = size\n",
    "num_fil = size\n",
    "states = (num_col*num_fil)**2"
   ]
  },
  {
   "cell_type": "code",
   "execution_count": 266,
   "metadata": {},
   "outputs": [
    {
     "name": "stdin",
     "output_type": "stream",
     "text": [
      "¿Cuál es el estado objetivo? 6\n"
     ]
    }
   ],
   "source": [
    "objetivo = int(input('¿Cuál es el estado objetivo?'))"
   ]
  },
  {
   "cell_type": "code",
   "execution_count": 267,
   "metadata": {},
   "outputs": [],
   "source": [
    "a = np.zeros((num_fil,num_col))"
   ]
  },
  {
   "cell_type": "code",
   "execution_count": 268,
   "metadata": {},
   "outputs": [
    {
     "data": {
      "text/plain": [
       "array([[0, 0, 0],\n",
       "       [0, 0, 0],\n",
       "       [0, 0, 0]])"
      ]
     },
     "execution_count": 268,
     "metadata": {},
     "output_type": "execute_result"
    }
   ],
   "source": [
    "a.astype(int)"
   ]
  },
  {
   "cell_type": "code",
   "execution_count": 275,
   "metadata": {},
   "outputs": [
    {
     "data": {
      "text/plain": [
       "array([[0, 3, 8],\n",
       "       [1, 2, 7],\n",
       "       [4, 5, 6]])"
      ]
     },
     "execution_count": 275,
     "metadata": {},
     "output_type": "execute_result"
    }
   ],
   "source": [
    "m = createMatrix(a,size).astype(int)\n",
    "m"
   ]
  },
  {
   "cell_type": "code",
   "execution_count": 276,
   "metadata": {},
   "outputs": [
    {
     "name": "stdout",
     "output_type": "stream",
     "text": [
      "[[0 3 8]\n",
      " [1 2 7]\n",
      " [4 5 6]]\n"
     ]
    }
   ],
   "source": [
    "print(m)"
   ]
  },
  {
   "cell_type": "code",
   "execution_count": 277,
   "metadata": {},
   "outputs": [
    {
     "name": "stdout",
     "output_type": "stream",
     "text": [
      "0 1\n",
      "  \n"
     ]
    }
   ],
   "source": [
    "rMatrix=obtainRMatrix(m)"
   ]
  },
  {
   "cell_type": "code",
   "execution_count": 278,
   "metadata": {},
   "outputs": [
    {
     "data": {
      "text/plain": [
       "array([[-1,  0,  0,  0, -1, -1, -1, -1, -1],\n",
       "       [ 0, -1,  0,  0,  0,  0, -1, -1, -1],\n",
       "       [ 0,  0, -1,  0,  0,  0,  0,  0,  0],\n",
       "       [ 0,  0,  0, -1, -1, -1, -1,  0,  0],\n",
       "       [-1,  0,  0, -1, -1,  0, -1, -1, -1],\n",
       "       [-1,  0,  0, -1,  0, -1,  0,  0, -1],\n",
       "       [-1, -1,  0, -1, -1,  0, -1,  0, -1],\n",
       "       [-1, -1,  0,  0, -1,  0,  0, -1,  0],\n",
       "       [-1, -1,  0,  0, -1, -1, -1,  0, -1]])"
      ]
     },
     "execution_count": 278,
     "metadata": {},
     "output_type": "execute_result"
    }
   ],
   "source": [
    "rMatrix"
   ]
  },
  {
   "cell_type": "code",
   "execution_count": 279,
   "metadata": {},
   "outputs": [
    {
     "data": {
      "text/plain": [
       "array([[ -1,   0,   0,   0,  -1,  -1,  -1,  -1,  -1],\n",
       "       [  0,  -1,   0,   0,   0,   0,  -1,  -1,  -1],\n",
       "       [  0,   0,  -1,   0,   0,   0, 100,   0,   0],\n",
       "       [  0,   0,   0,  -1,  -1,  -1,  -1,   0,   0],\n",
       "       [ -1,   0,   0,  -1,  -1,   0,  -1,  -1,  -1],\n",
       "       [ -1,   0,   0,  -1,   0,  -1, 100,   0,  -1],\n",
       "       [ -1,  -1,   0,  -1,  -1,   0, 100,   0,  -1],\n",
       "       [ -1,  -1,   0,   0,  -1,   0, 100,  -1,   0],\n",
       "       [ -1,  -1,   0,   0,  -1,  -1,  -1,   0,  -1]])"
      ]
     },
     "execution_count": 279,
     "metadata": {},
     "output_type": "execute_result"
    }
   ],
   "source": [
    "rMatrix=addObjetives(rMatrix,[objetivo])\n",
    "rMatrix"
   ]
  },
  {
   "cell_type": "code",
   "execution_count": 290,
   "metadata": {},
   "outputs": [
    {
     "name": "stdout",
     "output_type": "stream",
     "text": [
      "[[0 0 0 0 0 0 0 0 0]\n",
      " [0 0 0 0 0 0 0 0 0]\n",
      " [0 0 0 0 0 0 0 0 0]\n",
      " [0 0 0 0 0 0 0 0 0]\n",
      " [0 0 0 0 0 0 0 0 0]\n",
      " [0 0 0 0 0 0 0 0 0]\n",
      " [0 0 0 0 0 0 0 0 0]\n",
      " [0 0 0 0 0 0 0 0 0]\n",
      " [0 0 0 0 0 0 0 0 0]]\n"
     ]
    }
   ],
   "source": [
    "qMatrix = np.zeros((size**2,size**2)).astype(int)\n",
    "print(qMatrix)"
   ]
  },
  {
   "cell_type": "markdown",
   "metadata": {},
   "source": [
    "Algoritmo de aprendizaje \n",
    "-----------------------------------------------------------"
   ]
  },
  {
   "cell_type": "code",
   "execution_count": 194,
   "metadata": {},
   "outputs": [],
   "source": [
    "def acciones ( matriz, estado ):\n",
    "    fila_estado = matriz [ estado , : ]\n",
    "    acciones = [ ]\n",
    "    for n in range ( len ( fila_estado ) ):\n",
    "        if (fila_estado [ n ] != -1):\n",
    "            acciones.append(n)\n",
    "    return (acciones)"
   ]
  },
  {
   "cell_type": "code",
   "execution_count": 195,
   "metadata": {},
   "outputs": [],
   "source": [
    "def maxQValue(Q, R, estado):\n",
    "    #obtener los estados accesibles desde la matriz R\n",
    "    rRow = R[estado]\n",
    "    qRow = Q[estado]\n",
    "    possibleStatesIndex = np.where(rRow != -1)\n",
    "    #obtener los valores en la matriz Q\n",
    "    qLista=qRow[possibleStatesIndex]\n",
    "    #devolver el máximo\n",
    "    maxValue=np.amax(qLista)\n",
    "    return maxValue"
   ]
  },
  {
   "cell_type": "code",
   "execution_count": 344,
   "metadata": {},
   "outputs": [],
   "source": [
    "def entrenarQ ( Q, R, Gamma, objetivo, num_episodios ):\n",
    "    while num_episodios > 0:\n",
    "        estado = random.randint ( 0, num_fil**2 - 1 )\n",
    "        while ( estado != objetivo ):\n",
    "            #acciones = acciones ( R, estado )\n",
    "            accion_elegida = random.choice ( acciones ( R, estado ) )\n",
    "            siguiente_estado = accion_elegida\n",
    "            Q [ estado, accion_elegida ] = R [ estado, accion_elegida ] + Gamma * maxQValue(Q,R,siguiente_estado)\n",
    "            estado = siguiente_estado\n",
    "        num_episodios = num_episodios - 1\n",
    "    return Q"
   ]
  },
  {
   "cell_type": "code",
   "execution_count": 219,
   "metadata": {},
   "outputs": [
    {
     "data": {
      "text/plain": [
       "0"
      ]
     },
     "execution_count": 219,
     "metadata": {},
     "output_type": "execute_result"
    }
   ],
   "source": [
    "maxQValue(qMatrix,rMatrix,2)"
   ]
  },
  {
   "cell_type": "code",
   "execution_count": 345,
   "metadata": {},
   "outputs": [
    {
     "ename": "IndexError",
     "evalue": "index 9 is out of bounds for axis 0 with size 9",
     "output_type": "error",
     "traceback": [
      "\u001b[1;31m---------------------------------------------------------------------------\u001b[0m",
      "\u001b[1;31mIndexError\u001b[0m                                Traceback (most recent call last)",
      "\u001b[1;32m<ipython-input-345-f40c68816cdd>\u001b[0m in \u001b[0;36m<module>\u001b[1;34m\u001b[0m\n\u001b[1;32m----> 1\u001b[1;33m \u001b[0mentrenarQ\u001b[0m\u001b[1;33m(\u001b[0m\u001b[0mqMatrix\u001b[0m\u001b[1;33m,\u001b[0m \u001b[0mrMatrix\u001b[0m\u001b[1;33m,\u001b[0m \u001b[1;36m0.8\u001b[0m\u001b[1;33m,\u001b[0m \u001b[1;36m8\u001b[0m\u001b[1;33m,\u001b[0m \u001b[1;36m1000\u001b[0m\u001b[1;33m)\u001b[0m\u001b[1;33m\u001b[0m\u001b[1;33m\u001b[0m\u001b[0m\n\u001b[0m\u001b[0;32m      2\u001b[0m \u001b[1;33m\u001b[0m\u001b[0m\n\u001b[0;32m      3\u001b[0m \u001b[0mprint\u001b[0m\u001b[1;33m(\u001b[0m\u001b[0mqMatrix\u001b[0m\u001b[1;33m)\u001b[0m\u001b[1;33m\u001b[0m\u001b[1;33m\u001b[0m\u001b[0m\n",
      "\u001b[1;32m<ipython-input-344-d9a462b10d2a>\u001b[0m in \u001b[0;36mentrenarQ\u001b[1;34m(Q, R, Gamma, objetivo, num_episodios)\u001b[0m\n\u001b[0;32m      4\u001b[0m         \u001b[1;32mwhile\u001b[0m \u001b[1;33m(\u001b[0m \u001b[0mestado\u001b[0m \u001b[1;33m!=\u001b[0m \u001b[0mobjetivo\u001b[0m \u001b[1;33m)\u001b[0m\u001b[1;33m:\u001b[0m\u001b[1;33m\u001b[0m\u001b[1;33m\u001b[0m\u001b[0m\n\u001b[0;32m      5\u001b[0m             \u001b[1;31m#acciones = acciones ( R, estado )\u001b[0m\u001b[1;33m\u001b[0m\u001b[1;33m\u001b[0m\u001b[1;33m\u001b[0m\u001b[0m\n\u001b[1;32m----> 6\u001b[1;33m             \u001b[0maccion_elegida\u001b[0m \u001b[1;33m=\u001b[0m \u001b[0mrandom\u001b[0m\u001b[1;33m.\u001b[0m\u001b[0mchoice\u001b[0m \u001b[1;33m(\u001b[0m \u001b[0macciones\u001b[0m \u001b[1;33m(\u001b[0m \u001b[0mR\u001b[0m\u001b[1;33m,\u001b[0m \u001b[0mestado\u001b[0m \u001b[1;33m)\u001b[0m \u001b[1;33m)\u001b[0m\u001b[1;33m\u001b[0m\u001b[1;33m\u001b[0m\u001b[0m\n\u001b[0m\u001b[0;32m      7\u001b[0m             \u001b[0msiguiente_estado\u001b[0m \u001b[1;33m=\u001b[0m \u001b[0maccion_elegida\u001b[0m\u001b[1;33m\u001b[0m\u001b[1;33m\u001b[0m\u001b[0m\n\u001b[0;32m      8\u001b[0m             \u001b[0mQ\u001b[0m \u001b[1;33m[\u001b[0m \u001b[0mestado\u001b[0m\u001b[1;33m,\u001b[0m \u001b[0maccion_elegida\u001b[0m \u001b[1;33m]\u001b[0m \u001b[1;33m=\u001b[0m \u001b[0mR\u001b[0m \u001b[1;33m[\u001b[0m \u001b[0mestado\u001b[0m\u001b[1;33m,\u001b[0m \u001b[0maccion_elegida\u001b[0m \u001b[1;33m]\u001b[0m \u001b[1;33m+\u001b[0m \u001b[0mGamma\u001b[0m \u001b[1;33m*\u001b[0m \u001b[0mmaxQValue\u001b[0m\u001b[1;33m(\u001b[0m\u001b[0mQ\u001b[0m\u001b[1;33m,\u001b[0m\u001b[0mR\u001b[0m\u001b[1;33m,\u001b[0m\u001b[0msiguiente_estado\u001b[0m\u001b[1;33m)\u001b[0m\u001b[1;33m\u001b[0m\u001b[1;33m\u001b[0m\u001b[0m\n",
      "\u001b[1;32m<ipython-input-194-89c2c6e2f378>\u001b[0m in \u001b[0;36macciones\u001b[1;34m(matriz, estado)\u001b[0m\n\u001b[0;32m      1\u001b[0m \u001b[1;32mdef\u001b[0m \u001b[0macciones\u001b[0m \u001b[1;33m(\u001b[0m \u001b[0mmatriz\u001b[0m\u001b[1;33m,\u001b[0m \u001b[0mestado\u001b[0m \u001b[1;33m)\u001b[0m\u001b[1;33m:\u001b[0m\u001b[1;33m\u001b[0m\u001b[1;33m\u001b[0m\u001b[0m\n\u001b[1;32m----> 2\u001b[1;33m     \u001b[0mfila_estado\u001b[0m \u001b[1;33m=\u001b[0m \u001b[0mmatriz\u001b[0m \u001b[1;33m[\u001b[0m \u001b[0mestado\u001b[0m \u001b[1;33m,\u001b[0m \u001b[1;33m:\u001b[0m \u001b[1;33m]\u001b[0m\u001b[1;33m\u001b[0m\u001b[1;33m\u001b[0m\u001b[0m\n\u001b[0m\u001b[0;32m      3\u001b[0m     \u001b[0macciones\u001b[0m \u001b[1;33m=\u001b[0m \u001b[1;33m[\u001b[0m \u001b[1;33m]\u001b[0m\u001b[1;33m\u001b[0m\u001b[1;33m\u001b[0m\u001b[0m\n\u001b[0;32m      4\u001b[0m     \u001b[1;32mfor\u001b[0m \u001b[0mn\u001b[0m \u001b[1;32min\u001b[0m \u001b[0mrange\u001b[0m \u001b[1;33m(\u001b[0m \u001b[0mlen\u001b[0m \u001b[1;33m(\u001b[0m \u001b[0mfila_estado\u001b[0m \u001b[1;33m)\u001b[0m \u001b[1;33m)\u001b[0m\u001b[1;33m:\u001b[0m\u001b[1;33m\u001b[0m\u001b[1;33m\u001b[0m\u001b[0m\n\u001b[0;32m      5\u001b[0m         \u001b[1;32mif\u001b[0m \u001b[1;33m(\u001b[0m\u001b[0mfila_estado\u001b[0m \u001b[1;33m[\u001b[0m \u001b[0mn\u001b[0m \u001b[1;33m]\u001b[0m \u001b[1;33m!=\u001b[0m \u001b[1;33m-\u001b[0m\u001b[1;36m1\u001b[0m\u001b[1;33m)\u001b[0m\u001b[1;33m:\u001b[0m\u001b[1;33m\u001b[0m\u001b[1;33m\u001b[0m\u001b[0m\n",
      "\u001b[1;31mIndexError\u001b[0m: index 9 is out of bounds for axis 0 with size 9"
     ]
    }
   ],
   "source": [
    "entrenarQ(qMatrix, rMatrix, 0.8, 8, 1000)\n",
    "\n",
    "print(qMatrix)"
   ]
  },
  {
   "cell_type": "code",
   "execution_count": 281,
   "metadata": {},
   "outputs": [
    {
     "data": {
      "text/plain": [
       "array([[  0, 316, 396, 316,   0,   0,   0,   0,   0],\n",
       "       [316,   0, 396, 316, 316, 396,   0,   0,   0],\n",
       "       [316, 316,   0, 316, 316, 396, 496, 396,   0],\n",
       "       [316, 316, 396,   0,   0,   0,   0, 396,   0],\n",
       "       [  0, 316, 396,   0,   0, 396,   0,   0,   0],\n",
       "       [  0, 316, 396,   0, 316,   0, 496, 396,   0],\n",
       "       [  0,   0, 396,   0,   0, 396, 496, 396,   0],\n",
       "       [  0,   0, 396, 316,   0, 396, 496,   0,   0],\n",
       "       [  0,   0,   0,   0,   0,   0,   0,   0,   0]])"
      ]
     },
     "execution_count": 281,
     "metadata": {},
     "output_type": "execute_result"
    }
   ],
   "source": [
    "qMatrix"
   ]
  },
  {
   "cell_type": "code",
   "execution_count": 292,
   "metadata": {},
   "outputs": [
    {
     "name": "stdout",
     "output_type": "stream",
     "text": [
      "[[  0.          63.70967742  79.83870968  63.70967742   0.\n",
      "    0.           0.           0.           0.        ]\n",
      " [ 63.70967742   0.          79.83870968  63.70967742  63.70967742\n",
      "   79.83870968   0.           0.           0.        ]\n",
      " [ 63.70967742  63.70967742   0.          63.70967742  63.70967742\n",
      "   79.83870968 100.          79.83870968   0.        ]\n",
      " [ 63.70967742  63.70967742  79.83870968   0.           0.\n",
      "    0.           0.          79.83870968   0.        ]\n",
      " [  0.          63.70967742  79.83870968   0.           0.\n",
      "   79.83870968   0.           0.           0.        ]\n",
      " [  0.          63.70967742  79.83870968   0.          63.70967742\n",
      "    0.         100.          79.83870968   0.        ]\n",
      " [  0.           0.          79.83870968   0.           0.\n",
      "   79.83870968 100.          79.83870968   0.        ]\n",
      " [  0.           0.          79.83870968  63.70967742   0.\n",
      "   79.83870968 100.           0.           0.        ]\n",
      " [  0.           0.           0.           0.           0.\n",
      "    0.           0.           0.           0.        ]]\n"
     ]
    }
   ],
   "source": [
    "qMatrix=(qMatrix/np.max(qMatrix))*100\n",
    "print(qMatrix)"
   ]
  },
  {
   "cell_type": "code",
   "execution_count": 282,
   "metadata": {},
   "outputs": [
    {
     "data": {
      "text/plain": [
       "array([[ -1,   0,   0,   0,  -1,  -1,  -1,  -1,  -1],\n",
       "       [  0,  -1,   0,   0,   0,   0,  -1,  -1,  -1],\n",
       "       [  0,   0,  -1,   0,   0,   0, 100,   0,   0],\n",
       "       [  0,   0,   0,  -1,  -1,  -1,  -1,   0,   0],\n",
       "       [ -1,   0,   0,  -1,  -1,   0,  -1,  -1,  -1],\n",
       "       [ -1,   0,   0,  -1,   0,  -1, 100,   0,  -1],\n",
       "       [ -1,  -1,   0,  -1,  -1,   0, 100,   0,  -1],\n",
       "       [ -1,  -1,   0,   0,  -1,   0, 100,  -1,   0],\n",
       "       [ -1,  -1,   0,   0,  -1,  -1,  -1,   0,  -1]])"
      ]
     },
     "execution_count": 282,
     "metadata": {},
     "output_type": "execute_result"
    }
   ],
   "source": [
    "rMatrix"
   ]
  },
  {
   "cell_type": "markdown",
   "metadata": {},
   "source": [
    "Camino eficiente\n",
    "-----------------------------------------------------------"
   ]
  },
  {
   "cell_type": "code",
   "execution_count": 330,
   "metadata": {},
   "outputs": [],
   "source": [
    "def findOptimalWay(initialState, Q, objetive):\n",
    "    #paso1 \n",
    "    actualState = initialState\n",
    "    camino = [initialState]\n",
    "    contador=0\n",
    "    totalValue=0\n",
    "    #paso2\n",
    "    while(actualState!=objetive):\n",
    "        qRow = Q[actualState]\n",
    "        maxValue = np.max(qRow)\n",
    "        maxValueIndex = np.where(qRow == maxValue)\n",
    "        nextState=maxValueIndex[0][0]\n",
    "        print(\"nextState\",nextState)\n",
    "        camino.append(nextState)\n",
    "        #paso3\n",
    "        totalValue += maxValue \n",
    "        actualState=nextState\n",
    "        print(actualState)\n",
    "        contador=contador+1\n",
    "    return camino, contador, totalValue\n",
    "    "
   ]
  },
  {
   "cell_type": "code",
   "execution_count": 340,
   "metadata": {},
   "outputs": [
    {
     "name": "stdout",
     "output_type": "stream",
     "text": [
      "nextState 0\n",
      "0\n",
      "nextState 2\n",
      "2\n",
      "nextState 6\n",
      "6\n"
     ]
    }
   ],
   "source": [
    "[camino,contador,totalValue]=findOptimalWay(8,qMatrix,6)"
   ]
  },
  {
   "cell_type": "code",
   "execution_count": 339,
   "metadata": {},
   "outputs": [
    {
     "data": {
      "text/plain": [
       "[8, 0, 2, 6]"
      ]
     },
     "execution_count": 339,
     "metadata": {},
     "output_type": "execute_result"
    }
   ],
   "source": [
    "camino"
   ]
  },
  {
   "cell_type": "code",
   "execution_count": null,
   "metadata": {},
   "outputs": [],
   "source": []
  }
 ],
 "metadata": {
  "kernelspec": {
   "display_name": "Python 3",
   "language": "python",
   "name": "python3"
  },
  "language_info": {
   "codemirror_mode": {
    "name": "ipython",
    "version": 3
   },
   "file_extension": ".py",
   "mimetype": "text/x-python",
   "name": "python",
   "nbconvert_exporter": "python",
   "pygments_lexer": "ipython3",
   "version": "3.7.6"
  }
 },
 "nbformat": 4,
 "nbformat_minor": 4
}
