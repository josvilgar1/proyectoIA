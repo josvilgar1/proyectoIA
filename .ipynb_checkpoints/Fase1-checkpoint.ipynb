{
 "cells": [
  {
   "cell_type": "code",
   "execution_count": null,
   "metadata": {},
   "outputs": [],
   "source": [
    "import numpy as np"
   ]
  },
  {
   "cell_type": "code",
   "execution_count": null,
   "metadata": {},
   "outputs": [],
   "source": [
    "def addLayerToMatrix(matrix, layer, count):\n",
    "    for i in range(layer):\n",
    "        \n",
    "        matrix[layer][i] = int(count)\n",
    "        count=count+1\n",
    "        \n",
    "    for i in range(layer+1):\n",
    "        \n",
    "        matrix[layer-i][layer] = int(count)\n",
    "        count=count+1\n",
    "        \n",
    "    return [matrix, count]\n",
    "    "
   ]
  },
  {
   "cell_type": "code",
   "execution_count": null,
   "metadata": {},
   "outputs": [],
   "source": [
    "def createMatrix(m,tam):\n",
    "    layer=0\n",
    "    for i in range(tam):\n",
    "        [m,layer]=addLayerToMatrix(m,i,layer)\n",
    "    return m"
   ]
  },
  {
   "cell_type": "code",
   "execution_count": null,
   "metadata": {},
   "outputs": [],
   "source": [
    "def inicializeRMatrix(numRows, numCols):\n",
    "    return np.array([-1 for _ in range((numRows**2)*(numCols**2))]).reshape(numRows**2, numCols**2)"
   ]
  },
  {
   "cell_type": "code",
   "execution_count": null,
   "metadata": {},
   "outputs": [],
   "source": [
    "size = int(input('¿Cuál es el tamaño del problema? '))\n",
    "num_col = size\n",
    "num_fil = size\n"
   ]
  },
  {
   "cell_type": "code",
   "execution_count": null,
   "metadata": {},
   "outputs": [],
   "source": [
    "a = np.zeros((num_fil,num_col))"
   ]
  },
  {
   "cell_type": "code",
   "execution_count": null,
   "metadata": {},
   "outputs": [],
   "source": [
    "a.astype(int)"
   ]
  },
  {
   "cell_type": "code",
   "execution_count": 145,
   "metadata": {},
   "outputs": [
    {
     "data": {
      "text/plain": [
       "5"
      ]
     },
     "execution_count": 145,
     "metadata": {},
     "output_type": "execute_result"
    }
   ],
   "source": [
    "m = createMatrix(a,size)\n",
    "size"
   ]
  },
  {
   "cell_type": "code",
   "execution_count": 146,
   "metadata": {},
   "outputs": [
    {
     "name": "stdout",
     "output_type": "stream",
     "text": [
      "[[ 0  3  8 15 24]\n",
      " [ 1  2  7 14 23]\n",
      " [ 4  5  6 13 22]\n",
      " [ 9 10 11 12 21]\n",
      " [16 17 18 19 20]]\n"
     ]
    }
   ],
   "source": [
    "m=m.astype(int)\n",
    "print(m)"
   ]
  },
  {
   "cell_type": "code",
   "execution_count": null,
   "metadata": {},
   "outputs": [],
   "source": [
    "rMatrix=obtainRMatrix(m)"
   ]
  },
  {
   "cell_type": "code",
   "execution_count": 149,
   "metadata": {},
   "outputs": [
    {
     "data": {
      "text/plain": [
       "array([[-1,  0,  0,  0, -1, -1, -1, -1, -1, -1, -1, -1, -1, -1, -1, -1,\n",
       "        -1, -1, -1, -1, -1, -1, -1, -1, -1],\n",
       "       [ 0, -1,  0,  0,  0,  0, -1, -1, -1, -1, -1, -1, -1, -1, -1, -1,\n",
       "        -1, -1, -1, -1, -1, -1, -1, -1, -1],\n",
       "       [ 0,  0, -1,  0,  0,  0,  0,  0,  0, -1, -1, -1, -1, -1, -1, -1,\n",
       "        -1, -1, -1, -1, -1, -1, -1, -1, -1],\n",
       "       [ 0,  0,  0, -1, -1, -1, -1,  0,  0, -1, -1, -1, -1, -1, -1, -1,\n",
       "        -1, -1, -1, -1, -1, -1, -1, -1, -1],\n",
       "       [-1,  0,  0, -1, -1,  0, -1, -1, -1,  0,  0, -1, -1, -1, -1, -1,\n",
       "        -1, -1, -1, -1, -1, -1, -1, -1, -1],\n",
       "       [-1,  0,  0, -1,  0, -1,  0,  0, -1,  0,  0,  0, -1, -1, -1, -1,\n",
       "        -1, -1, -1, -1, -1, -1, -1, -1, -1],\n",
       "       [-1, -1,  0, -1, -1,  0, -1,  0, -1, -1,  0,  0,  0,  0,  0, -1,\n",
       "        -1, -1, -1, -1, -1, -1, -1, -1, -1],\n",
       "       [-1, -1,  0,  0, -1,  0,  0, -1,  0, -1, -1, -1, -1,  0,  0,  0,\n",
       "        -1, -1, -1, -1, -1, -1, -1, -1, -1],\n",
       "       [-1, -1,  0,  0, -1, -1, -1,  0, -1, -1, -1, -1, -1, -1,  0,  0,\n",
       "        -1, -1, -1, -1, -1, -1, -1, -1, -1],\n",
       "       [-1, -1, -1, -1,  0,  0, -1, -1, -1, -1,  0, -1, -1, -1, -1, -1,\n",
       "         0,  0, -1, -1, -1, -1, -1, -1, -1],\n",
       "       [-1, -1, -1, -1,  0,  0,  0, -1, -1,  0, -1,  0, -1, -1, -1, -1,\n",
       "         0,  0,  0, -1, -1, -1, -1, -1, -1],\n",
       "       [-1, -1, -1, -1, -1,  0,  0, -1, -1, -1,  0, -1,  0,  0, -1, -1,\n",
       "        -1,  0,  0,  0, -1, -1, -1, -1, -1],\n",
       "       [-1, -1, -1, -1, -1, -1,  0, -1, -1, -1, -1,  0, -1,  0, -1, -1,\n",
       "        -1, -1,  0,  0,  0,  0,  0, -1, -1],\n",
       "       [-1, -1, -1, -1, -1, -1,  0,  0, -1, -1, -1,  0,  0, -1,  0, -1,\n",
       "        -1, -1, -1, -1, -1,  0,  0,  0, -1],\n",
       "       [-1, -1, -1, -1, -1, -1,  0,  0,  0, -1, -1, -1, -1,  0, -1,  0,\n",
       "        -1, -1, -1, -1, -1, -1,  0,  0,  0],\n",
       "       [-1, -1, -1, -1, -1, -1, -1,  0,  0, -1, -1, -1, -1, -1,  0, -1,\n",
       "        -1, -1, -1, -1, -1, -1, -1,  0,  0],\n",
       "       [-1, -1, -1, -1, -1, -1, -1, -1, -1, -1, -1, -1, -1, -1, -1, -1,\n",
       "        -1, -1, -1, -1, -1, -1, -1, -1, -1],\n",
       "       [-1, -1, -1, -1, -1, -1, -1, -1, -1, -1, -1, -1, -1, -1, -1, -1,\n",
       "        -1, -1, -1, -1, -1, -1, -1, -1, -1],\n",
       "       [-1, -1, -1, -1, -1, -1, -1, -1, -1, -1, -1, -1, -1, -1, -1, -1,\n",
       "        -1, -1, -1, -1, -1, -1, -1, -1, -1],\n",
       "       [-1, -1, -1, -1, -1, -1, -1, -1, -1, -1, -1, -1, -1, -1, -1, -1,\n",
       "        -1, -1, -1, -1, -1, -1, -1, -1, -1],\n",
       "       [-1, -1, -1, -1, -1, -1, -1, -1, -1, -1, -1, -1, -1, -1, -1, -1,\n",
       "        -1, -1, -1, -1, -1, -1, -1, -1, -1],\n",
       "       [-1, -1, -1, -1, -1, -1, -1, -1, -1, -1, -1, -1,  0,  0, -1, -1,\n",
       "        -1, -1, -1,  0,  0, -1,  0, -1, -1],\n",
       "       [-1, -1, -1, -1, -1, -1, -1, -1, -1, -1, -1, -1,  0,  0,  0, -1,\n",
       "        -1, -1, -1, -1, -1,  0, -1,  0, -1],\n",
       "       [-1, -1, -1, -1, -1, -1, -1, -1, -1, -1, -1, -1, -1,  0,  0,  0,\n",
       "        -1, -1, -1, -1, -1, -1,  0, -1,  0],\n",
       "       [-1, -1, -1, -1, -1, -1, -1, -1, -1, -1, -1, -1, -1, -1,  0,  0,\n",
       "        -1, -1, -1, -1, -1, -1, -1,  0, -1]])"
      ]
     },
     "execution_count": 149,
     "metadata": {},
     "output_type": "execute_result"
    }
   ],
   "source": [
    "rMatrix"
   ]
  },
  {
   "cell_type": "code",
   "execution_count": 139,
   "metadata": {},
   "outputs": [],
   "source": [
    "def obtainRMatrix(m):\n",
    "    Rsize = size**2\n",
    "    rMatrix = inicializeRMatrix(num_col,num_fil)\n",
    "    res=[]\n",
    "    for i in range(num_fil):\n",
    "        for j in range(num_col):\n",
    "            n0 = m[i][j]\n",
    "            if 0<i<num_fil-1:\n",
    "                rMatrix[m[i][j]][m[i-1][j]]=0\n",
    "                rMatrix[m[i][j]][m[i+1][j]]=0\n",
    "                if(0<j<num_col-1):\n",
    "                    rMatrix[m[i][j]][m[i-1][j-1]]=0\n",
    "                    rMatrix[m[i][j]][m[i][j-1]]=0\n",
    "                    rMatrix[m[i][j]][m[i-1][j+1]]=0\n",
    "                    rMatrix[m[i][j]][m[i+1][j-1]]=0\n",
    "                    rMatrix[m[i][j]][m[i+1][j+1]]=0\n",
    "                    rMatrix[m[i][j]][m[i][j+1]]=0\n",
    " \n",
    "                if(j==0):\n",
    "                    rMatrix[m[i][j]][m[i-1][j+1]]=0\n",
    "                    rMatrix[m[i][j]][m[i][j+1]]=0\n",
    "                    rMatrix[m[i][j]][m[i+1][j+1]]=0\n",
    "                if(j==num_col-1):\n",
    "                    rMatrix[m[i][j]][m[i-1][j-1]]=0\n",
    "                    rMatrix[m[i][j]][m[i][j-1]]=0\n",
    "                    rMatrix[m[i][j]][m[i+1][j-1]]=0             \n",
    "            elif(i==0):\n",
    "                rMatrix[m[i][j]][m[i+1][j]]=0             \n",
    "                \n",
    "                if(j==0):\n",
    "                    rMatrix[m[i][j]][m[i+1][j+1]]=0             \n",
    "                    rMatrix[m[i][j]][m[i][j+1]]=0             \n",
    "                if(j==num_col-1):\n",
    "                    rMatrix[m[i][j]][m[i+1][j-1]]=0  \n",
    "                    rMatrix[m[i][j]][m[i][j-1]]=0  \n",
    "                if(0<j<num_col-1):\n",
    "                    print(i,j)\n",
    "                    print (\"  \")\n",
    "                    rMatrix[m[i][j]][m[i+1][j-1]]=0  \n",
    "                    rMatrix[m[i][j]][m[i+1][j+1]]=0  \n",
    "                    rMatrix[m[i][j]][m[i][j+1]]=0  \n",
    "                    rMatrix[m[i][j]][m[i][j-1]]=0  \n",
    "                    \n",
    "            elif i==num_fil:\n",
    "                rMatrix[m[i][j]][m[i-1][j]]=0  \n",
    "                if(j==0):\n",
    "                    rMatrix[m[i][j]][m[i-1][j+1]]=0  \n",
    "                    rMatrix[m[i][j]][m[i][j+1]]=0  \n",
    "                if(j==num_col-1):\n",
    "                    rMatrix[m[i][j]][m[i-1][j-1]]=0  \n",
    "                    rMatrix[m[i][j]][m[i][j-1]]=0  \n",
    "                if(0<j<num_col-1):\n",
    "                    rMatrix[m[i][j]][m[i-1][j+1]]=0  \n",
    "                    rMatrix[m[i][j]][m[i-1][j-1]]=0  \n",
    "                    rMatrix[m[i][j]][m[i][j+1]]=0  \n",
    "                    rMatrix[m[i][j]][m[i][j-1]]=0  \n",
    "    return rMatrix"
   ]
  },
  {
   "cell_type": "code",
   "execution_count": 113,
   "metadata": {},
   "outputs": [
    {
     "data": {
      "text/plain": [
       "array([[-1, -1, -1],\n",
       "       [-1, -1, -1],\n",
       "       [-1, -1, -1]])"
      ]
     },
     "execution_count": 113,
     "metadata": {},
     "output_type": "execute_result"
    }
   ],
   "source": []
  },
  {
   "cell_type": "code",
   "execution_count": null,
   "metadata": {},
   "outputs": [],
   "source": []
  },
  {
   "cell_type": "code",
   "execution_count": null,
   "metadata": {},
   "outputs": [],
   "source": []
  },
  {
   "cell_type": "code",
   "execution_count": null,
   "metadata": {
    "scrolled": true
   },
   "outputs": [],
   "source": []
  },
  {
   "cell_type": "code",
   "execution_count": null,
   "metadata": {},
   "outputs": [],
   "source": []
  },
  {
   "cell_type": "code",
   "execution_count": null,
   "metadata": {},
   "outputs": [],
   "source": []
  }
 ],
 "metadata": {
  "kernelspec": {
   "display_name": "Python 3",
   "language": "python",
   "name": "python3"
  },
  "language_info": {
   "codemirror_mode": {
    "name": "ipython",
    "version": 3
   },
   "file_extension": ".py",
   "mimetype": "text/x-python",
   "name": "python",
   "nbconvert_exporter": "python",
   "pygments_lexer": "ipython3",
   "version": "3.7.6"
  }
 },
 "nbformat": 4,
 "nbformat_minor": 4
}
