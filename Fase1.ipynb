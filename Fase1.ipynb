{
 "cells": [
  {
   "cell_type": "code",
   "execution_count": 12,
   "metadata": {},
   "outputs": [],
   "source": [
    "import numpy as np\n",
    "import random as random"
   ]
  },
  {
   "cell_type": "code",
   "execution_count": 2,
   "metadata": {},
   "outputs": [],
   "source": [
    "def obtainRMatrix(m):\n",
    "    Rsize = size**2\n",
    "    rMatrix = inicializeRMatrix(num_col,num_fil)\n",
    "    res=[]\n",
    "    for i in range(num_fil):\n",
    "        for j in range(num_col):\n",
    "            n0 = m[i][j]\n",
    "            if 0<i<num_fil-1:\n",
    "                rMatrix[m[i][j]][m[i-1][j]]=0\n",
    "                rMatrix[m[i][j]][m[i+1][j]]=0\n",
    "                \n",
    "                if(0<j<num_col-1):\n",
    "                    rMatrix[m[i][j]][m[i-1][j-1]]=0\n",
    "                    rMatrix[m[i][j]][m[i][j-1]]=0\n",
    "                    rMatrix[m[i][j]][m[i-1][j+1]]=0\n",
    "                    rMatrix[m[i][j]][m[i+1][j-1]]=0\n",
    "                    rMatrix[m[i][j]][m[i+1][j+1]]=0\n",
    "                    rMatrix[m[i][j]][m[i][j+1]]=0\n",
    "                    \n",
    "                if(j==0):\n",
    "                    rMatrix[m[i][j]][m[i-1][j+1]]=0\n",
    "                    rMatrix[m[i][j]][m[i][j+1]]=0\n",
    "                    rMatrix[m[i][j]][m[i+1][j+1]]=0\n",
    "                    \n",
    "                if(j==num_col-1):\n",
    "                    rMatrix[m[i][j]][m[i-1][j-1]]=0\n",
    "                    rMatrix[m[i][j]][m[i][j-1]]=0\n",
    "                    rMatrix[m[i][j]][m[i+1][j-1]]=0  \n",
    "                    \n",
    "            elif(i==0):\n",
    "                rMatrix[m[i][j]][m[i+1][j]]=0             \n",
    "                \n",
    "                if(j==0):\n",
    "                    rMatrix[m[i][j]][m[i+1][j+1]]=0             \n",
    "                    rMatrix[m[i][j]][m[i][j+1]]=0   \n",
    "                    \n",
    "                if(j==num_col-1):\n",
    "                    rMatrix[m[i][j]][m[i+1][j-1]]=0  \n",
    "                    rMatrix[m[i][j]][m[i][j-1]]=0 \n",
    "                    \n",
    "                if(0<j<num_col-1):\n",
    "                    rMatrix[m[i][j]][m[i+1][j-1]]=0  \n",
    "                    rMatrix[m[i][j]][m[i+1][j+1]]=0  \n",
    "                    rMatrix[m[i][j]][m[i][j+1]]=0  \n",
    "                    rMatrix[m[i][j]][m[i][j-1]]=0  \n",
    "                    \n",
    "            elif i==num_fil-1:\n",
    "                rMatrix[m[i][j]][m[i-1][j]]=0  \n",
    "                if(j==0):\n",
    "                    rMatrix[m[i][j]][m[i-1][j+1]]=0  \n",
    "                    rMatrix[m[i][j]][m[i][j+1]]=0  \n",
    "                if(j==num_col-1):\n",
    "                    rMatrix[m[i][j]][m[i-1][j-1]]=0  \n",
    "                    rMatrix[m[i][j]][m[i][j-1]]=0  \n",
    "                if(0<j<num_col-1):\n",
    "                    rMatrix[m[i][j]][m[i-1][j+1]]=0  \n",
    "                    rMatrix[m[i][j]][m[i-1][j-1]]=0  \n",
    "                    rMatrix[m[i][j]][m[i][j+1]]=0  \n",
    "                    rMatrix[m[i][j]][m[i][j-1]]=0  \n",
    "    return rMatrix"
   ]
  },
  {
   "cell_type": "code",
   "execution_count": 3,
   "metadata": {},
   "outputs": [],
   "source": [
    "def addObjetives(R,objetives):\n",
    "    for objetive in objetives:\n",
    "        for i in range(num_fil**2):\n",
    "            R[i][objetive] = 100 if (R[i][objetive]==0) else -1       \n",
    "        R[objetive][objetive] = 100\n",
    "    return R          "
   ]
  },
  {
   "cell_type": "code",
   "execution_count": 4,
   "metadata": {},
   "outputs": [],
   "source": [
    "def addLayerToMatrix(matrix, layer, count):\n",
    "    for i in range(layer):\n",
    "        \n",
    "        matrix[layer][i] = int(count)\n",
    "        count=count+1\n",
    "        \n",
    "    for i in range(layer+1):\n",
    "        \n",
    "        matrix[layer-i][layer] = int(count)\n",
    "        count=count+1\n",
    "        \n",
    "    return [matrix, count]"
   ]
  },
  {
   "cell_type": "code",
   "execution_count": 5,
   "metadata": {},
   "outputs": [],
   "source": [
    "def createMatrix(m,tam):\n",
    "    layer=0\n",
    "    for i in range(tam):\n",
    "        [m,layer]=addLayerToMatrix(m,i,layer)\n",
    "    return m"
   ]
  },
  {
   "cell_type": "code",
   "execution_count": 6,
   "metadata": {},
   "outputs": [],
   "source": [
    "def inicializeRMatrix(numRows, numCols):\n",
    "    return np.array([-1 for _ in range((numRows**2)*(numCols**2))]).reshape(numRows**2, numCols**2)"
   ]
  },
  {
   "cell_type": "code",
   "execution_count": 7,
   "metadata": {},
   "outputs": [
    {
     "name": "stdout",
     "output_type": "stream",
     "text": [
      "¿Cuál es el tamaño del problema? 3\n"
     ]
    }
   ],
   "source": [
    "size = int(input('¿Cuál es el tamaño del problema? '))\n",
    "num_col = size\n",
    "num_fil = size\n",
    "states = (num_col*num_fil)**2"
   ]
  },
  {
   "cell_type": "code",
   "execution_count": 8,
   "metadata": {},
   "outputs": [
    {
     "name": "stdout",
     "output_type": "stream",
     "text": [
      "¿Cuál es el estado objetivo?6\n"
     ]
    }
   ],
   "source": [
    "objetivo = int(input('¿Cuál es el estado objetivo?'))"
   ]
  },
  {
   "cell_type": "code",
   "execution_count": 9,
   "metadata": {},
   "outputs": [],
   "source": [
    "a = np.zeros((num_fil,num_col))"
   ]
  },
  {
   "cell_type": "code",
   "execution_count": 10,
   "metadata": {},
   "outputs": [
    {
     "data": {
      "text/plain": [
       "array([[0, 0, 0],\n",
       "       [0, 0, 0],\n",
       "       [0, 0, 0]])"
      ]
     },
     "execution_count": 10,
     "metadata": {},
     "output_type": "execute_result"
    }
   ],
   "source": [
    "a.astype(int)"
   ]
  },
  {
   "cell_type": "code",
   "execution_count": 11,
   "metadata": {},
   "outputs": [
    {
     "data": {
      "text/plain": [
       "array([[0, 3, 8],\n",
       "       [1, 2, 7],\n",
       "       [4, 5, 6]])"
      ]
     },
     "execution_count": 11,
     "metadata": {},
     "output_type": "execute_result"
    }
   ],
   "source": [
    "m = createMatrix(a,size).astype(int)\n",
    "m"
   ]
  },
  {
   "cell_type": "code",
   "execution_count": 12,
   "metadata": {},
   "outputs": [
    {
     "name": "stdout",
     "output_type": "stream",
     "text": [
      "[[0 3 8]\n",
      " [1 2 7]\n",
      " [4 5 6]]\n"
     ]
    }
   ],
   "source": [
    "print(m)"
   ]
  },
  {
   "cell_type": "code",
   "execution_count": 13,
   "metadata": {},
   "outputs": [],
   "source": [
    "rMatrix=obtainRMatrix(m)"
   ]
  },
  {
   "cell_type": "code",
   "execution_count": 14,
   "metadata": {},
   "outputs": [
    {
     "data": {
      "text/plain": [
       "array([[-1,  0,  0,  0, -1, -1, -1, -1, -1],\n",
       "       [ 0, -1,  0,  0,  0,  0, -1, -1, -1],\n",
       "       [ 0,  0, -1,  0,  0,  0,  0,  0,  0],\n",
       "       [ 0,  0,  0, -1, -1, -1, -1,  0,  0],\n",
       "       [-1,  0,  0, -1, -1,  0, -1, -1, -1],\n",
       "       [-1,  0,  0, -1,  0, -1,  0,  0, -1],\n",
       "       [-1, -1,  0, -1, -1,  0, -1,  0, -1],\n",
       "       [-1, -1,  0,  0, -1,  0,  0, -1,  0],\n",
       "       [-1, -1,  0,  0, -1, -1, -1,  0, -1]])"
      ]
     },
     "execution_count": 14,
     "metadata": {},
     "output_type": "execute_result"
    }
   ],
   "source": [
    "rMatrix"
   ]
  },
  {
   "cell_type": "code",
   "execution_count": 15,
   "metadata": {},
   "outputs": [
    {
     "data": {
      "text/plain": [
       "array([[ -1,   0,   0,   0,  -1,  -1,  -1,  -1,  -1],\n",
       "       [  0,  -1,   0,   0,   0,   0,  -1,  -1,  -1],\n",
       "       [  0,   0,  -1,   0,   0,   0, 100,   0,   0],\n",
       "       [  0,   0,   0,  -1,  -1,  -1,  -1,   0,   0],\n",
       "       [ -1,   0,   0,  -1,  -1,   0,  -1,  -1,  -1],\n",
       "       [ -1,   0,   0,  -1,   0,  -1, 100,   0,  -1],\n",
       "       [ -1,  -1,   0,  -1,  -1,   0, 100,   0,  -1],\n",
       "       [ -1,  -1,   0,   0,  -1,   0, 100,  -1,   0],\n",
       "       [ -1,  -1,   0,   0,  -1,  -1,  -1,   0,  -1]])"
      ]
     },
     "execution_count": 15,
     "metadata": {},
     "output_type": "execute_result"
    }
   ],
   "source": [
    "rMatrix=addObjetives(rMatrix,[objetivo])\n",
    "rMatrix"
   ]
  },
  {
   "cell_type": "code",
   "execution_count": 16,
   "metadata": {},
   "outputs": [
    {
     "name": "stdout",
     "output_type": "stream",
     "text": [
      "[[0 0 0 0 0 0 0 0 0]\n",
      " [0 0 0 0 0 0 0 0 0]\n",
      " [0 0 0 0 0 0 0 0 0]\n",
      " [0 0 0 0 0 0 0 0 0]\n",
      " [0 0 0 0 0 0 0 0 0]\n",
      " [0 0 0 0 0 0 0 0 0]\n",
      " [0 0 0 0 0 0 0 0 0]\n",
      " [0 0 0 0 0 0 0 0 0]\n",
      " [0 0 0 0 0 0 0 0 0]]\n"
     ]
    }
   ],
   "source": [
    "qMatrix = np.zeros((size**2,size**2)).astype(int)\n",
    "print(qMatrix)"
   ]
  },
  {
   "cell_type": "markdown",
   "metadata": {},
   "source": [
    "Algoritmo de aprendizaje \n",
    "-----------------------------------------------------------"
   ]
  },
  {
   "cell_type": "code",
   "execution_count": 17,
   "metadata": {},
   "outputs": [],
   "source": [
    "def acciones ( matriz, estado ):\n",
    "    fila_estado = matriz [ estado , : ]\n",
    "    acciones = [ ]\n",
    "    for n in range ( len ( fila_estado ) ):\n",
    "        if (fila_estado [ n ] != -1):\n",
    "            acciones.append(n)\n",
    "    return (acciones)"
   ]
  },
  {
   "cell_type": "code",
   "execution_count": 18,
   "metadata": {},
   "outputs": [],
   "source": [
    "def maxQValue(Q, R, estado):\n",
    "    #obtener los estados accesibles desde la matriz R\n",
    "    rRow = R[estado]\n",
    "    qRow = Q[estado]\n",
    "    possibleStatesIndex = np.where(rRow != -1)\n",
    "    #obtener los valores en la matriz Q\n",
    "    qLista=qRow[possibleStatesIndex]\n",
    "    #devolver el máximo\n",
    "    maxValue=np.amax(qLista)\n",
    "    return maxValue"
   ]
  },
  {
   "cell_type": "code",
   "execution_count": 11,
   "metadata": {},
   "outputs": [],
   "source": [
    "def entrenarQ ( Q, R, Gamma, objetivo, num_episodios, alpha, epsilon ):\n",
    "    #Convertir los valores alpha y epsilon a decimales\n",
    "    alpha = Decimal( alpha )\n",
    "    epsilon = Decimal( epsilon )\n",
    "    while num_episodios > 0:\n",
    "        estado = random.randint ( 0, num_fil**2 - 1 )\n",
    "        while ( estado != objetivo ):\n",
    "            #Selección aleatoria del número que va a ser comparado con epsilon\n",
    "            numero_aleatorio = random.uniform( 0, 1 ) \n",
    "            if numero_aleatorio < epsilon:\n",
    "                #Número aleatorio < epsilon --> Acción aleatoria\n",
    "                accion_elegida = random.choice ( acciones ( R, estado ) )\n",
    "            else:\n",
    "                #Número aleatorio >= epsilon --> Seleccionamos la acción con el máximo valor en la tabla Q\n",
    "                qRow = Q [ estado ]\n",
    "                maxValue = np.max( qRow )\n",
    "                maxValueIndex = np.where( qRow == maxValue )\n",
    "                accion_elegida = maxValueIndex[ 0 ] [ 0 ]\n",
    "            siguiente_estado = accion_elegida\n",
    "            Q [ estado, accion_elegida ] = R [ estado, accion_elegida ] + Gamma * maxQValue(Q,R,siguiente_estado)\n",
    "            estado = siguiente_estado\n",
    "        num_episodios = num_episodios - 1\n",
    "        epsilon = epsilon * alpha\n",
    "    return Q"
   ]
  },
  {
   "cell_type": "code",
   "execution_count": 5,
   "metadata": {},
   "outputs": [
    {
     "ename": "NameError",
     "evalue": "name 'size' is not defined",
     "output_type": "error",
     "traceback": [
      "\u001b[1;31m---------------------------------------------------------------------------\u001b[0m",
      "\u001b[1;31mNameError\u001b[0m                                 Traceback (most recent call last)",
      "\u001b[1;32m<ipython-input-5-9fe4645a6fdd>\u001b[0m in \u001b[0;36m<module>\u001b[1;34m\u001b[0m\n\u001b[1;32m----> 1\u001b[1;33m \u001b[0mqMatrix\u001b[0m \u001b[1;33m=\u001b[0m \u001b[0mnp\u001b[0m\u001b[1;33m.\u001b[0m\u001b[0mzeros\u001b[0m\u001b[1;33m(\u001b[0m\u001b[1;33m(\u001b[0m\u001b[0msize\u001b[0m\u001b[1;33m**\u001b[0m\u001b[1;36m2\u001b[0m\u001b[1;33m,\u001b[0m\u001b[0msize\u001b[0m\u001b[1;33m**\u001b[0m\u001b[1;36m2\u001b[0m\u001b[1;33m)\u001b[0m\u001b[1;33m)\u001b[0m\u001b[1;33m.\u001b[0m\u001b[0mastype\u001b[0m\u001b[1;33m(\u001b[0m\u001b[0mint\u001b[0m\u001b[1;33m)\u001b[0m\u001b[1;33m\u001b[0m\u001b[1;33m\u001b[0m\u001b[0m\n\u001b[0m\u001b[0;32m      2\u001b[0m \u001b[0mprint\u001b[0m\u001b[1;33m(\u001b[0m\u001b[0mqMatrix\u001b[0m\u001b[1;33m)\u001b[0m\u001b[1;33m\u001b[0m\u001b[1;33m\u001b[0m\u001b[0m\n",
      "\u001b[1;31mNameError\u001b[0m: name 'size' is not defined"
     ]
    }
   ],
   "source": [
    "qMatrix = np.zeros((size**2,size**2)).astype(int)\n",
    "print(qMatrix)"
   ]
  },
  {
   "cell_type": "code",
   "execution_count": 52,
   "metadata": {},
   "outputs": [
    {
     "name": "stdout",
     "output_type": "stream",
     "text": [
      "Seleccione un parámetro alpha: [0,1]: 4.0\n",
      "Seleccione un parámetro epsilon: [0,1]: 5.0\n"
     ]
    }
   ],
   "source": [
    "alpha = input('Seleccione un parámetro alpha: [0,1]: ')\n",
    "epsilon = input('Seleccione un parámetro epsilon: [0,1]: ')"
   ]
  },
  {
   "cell_type": "code",
   "execution_count": 53,
   "metadata": {},
   "outputs": [
    {
     "name": "stdout",
     "output_type": "stream",
     "text": [
      "[[  0  64  80  64   0   0   0   0   0]\n",
      " [ 64   0  80  64  64  80   0   0   0]\n",
      " [ 64  64   0  64  64  80 100  80  64]\n",
      " [ 64  64  80   0   0   0   0  80  64]\n",
      " [  0  64  80   0   0  80   0   0   0]\n",
      " [  0  64  80   0  64   0 100  80   0]\n",
      " [  0   0   0   0   0   0   0   0   0]\n",
      " [  0   0  80  64   0  80 100   0  64]\n",
      " [  0   0  80  64   0   0   0  80   0]]\n"
     ]
    }
   ],
   "source": [
    "entrenarQ(qMatrix, rMatrix, 0.8, objetivo, 10000, alpha, epsilon)\n",
    "\n",
    "print(qMatrix)"
   ]
  },
  {
   "cell_type": "code",
   "execution_count": 364,
   "metadata": {},
   "outputs": [
    {
     "data": {
      "text/plain": [
       "array([[  0,  64,  80,  64,   0,   0,   0,   0,   0],\n",
       "       [ 64,   0,  80,  64,  64,  80,   0,   0,   0],\n",
       "       [ 64,  64,   0,  64,  64,  80, 100,  80,  64],\n",
       "       [ 64,  64,  80,   0,   0,   0,   0,  80,  64],\n",
       "       [  0,  64,  80,   0,   0,  80,   0,   0,   0],\n",
       "       [  0,  64,  80,   0,  64,   0, 100,  80,   0],\n",
       "       [  0,   0,   0,   0,   0,   0,   0,   0,   0],\n",
       "       [  0,   0,  80,  64,   0,  80, 100,   0,  64],\n",
       "       [  0,   0,  80,  64,   0,   0,   0,  80,   0]])"
      ]
     },
     "execution_count": 364,
     "metadata": {},
     "output_type": "execute_result"
    }
   ],
   "source": [
    "qMatrix"
   ]
  },
  {
   "cell_type": "code",
   "execution_count": 365,
   "metadata": {},
   "outputs": [
    {
     "name": "stdout",
     "output_type": "stream",
     "text": [
      "[[  0.  64.  80.  64.   0.   0.   0.   0.   0.]\n",
      " [ 64.   0.  80.  64.  64.  80.   0.   0.   0.]\n",
      " [ 64.  64.   0.  64.  64.  80. 100.  80.  64.]\n",
      " [ 64.  64.  80.   0.   0.   0.   0.  80.  64.]\n",
      " [  0.  64.  80.   0.   0.  80.   0.   0.   0.]\n",
      " [  0.  64.  80.   0.  64.   0. 100.  80.   0.]\n",
      " [  0.   0.   0.   0.   0.   0.   0.   0.   0.]\n",
      " [  0.   0.  80.  64.   0.  80. 100.   0.  64.]\n",
      " [  0.   0.  80.  64.   0.   0.   0.  80.   0.]]\n"
     ]
    }
   ],
   "source": [
    "qMatrix=(qMatrix/np.max(qMatrix))*100\n",
    "print(qMatrix)"
   ]
  },
  {
   "cell_type": "code",
   "execution_count": 366,
   "metadata": {},
   "outputs": [
    {
     "data": {
      "text/plain": [
       "array([[ -1,   0,   0,   0,  -1,  -1,  -1,  -1,  -1],\n",
       "       [  0,  -1,   0,   0,   0,   0,  -1,  -1,  -1],\n",
       "       [  0,   0,  -1,   0,   0,   0, 100,   0,   0],\n",
       "       [  0,   0,   0,  -1,  -1,  -1,  -1,   0,   0],\n",
       "       [ -1,   0,   0,  -1,  -1,   0,  -1,  -1,  -1],\n",
       "       [ -1,   0,   0,  -1,   0,  -1, 100,   0,  -1],\n",
       "       [ -1,  -1,   0,  -1,  -1,   0, 100,   0,  -1],\n",
       "       [ -1,  -1,   0,   0,  -1,   0, 100,  -1,   0],\n",
       "       [ -1,  -1,   0,   0,  -1,  -1,  -1,   0,  -1]])"
      ]
     },
     "execution_count": 366,
     "metadata": {},
     "output_type": "execute_result"
    }
   ],
   "source": [
    "rMatrix"
   ]
  },
  {
   "cell_type": "markdown",
   "metadata": {},
   "source": [
    "Camino eficiente\n",
    "-----------------------------------------------------------"
   ]
  },
  {
   "cell_type": "code",
   "execution_count": 367,
   "metadata": {},
   "outputs": [],
   "source": [
    "def findOptimalWay(initialState, Q, objetive):\n",
    "    #paso1 \n",
    "    actualState = initialState\n",
    "    camino = [initialState]\n",
    "    contador=0\n",
    "    totalValue=0\n",
    "    #paso2\n",
    "    while(actualState!=objetive):\n",
    "        qRow = Q[actualState]\n",
    "        maxValue = np.max(qRow)\n",
    "        maxValueIndex = np.where(qRow == maxValue)\n",
    "        nextState=maxValueIndex[0][0]\n",
    "        print(\"nextState\",nextState)\n",
    "        camino.append(nextState)\n",
    "        #paso3\n",
    "        totalValue += maxValue \n",
    "        actualState=nextState\n",
    "        print(actualState)\n",
    "        contador=contador+1\n",
    "    return camino, contador, totalValue\n",
    "    "
   ]
  },
  {
   "cell_type": "code",
   "execution_count": 368,
   "metadata": {},
   "outputs": [
    {
     "name": "stdout",
     "output_type": "stream",
     "text": [
      "nextState 2\n",
      "2\n",
      "nextState 6\n",
      "6\n"
     ]
    }
   ],
   "source": [
    "[camino,contador,totalValue]=findOptimalWay(8, qMatrix, objetivo)"
   ]
  },
  {
   "cell_type": "code",
   "execution_count": 369,
   "metadata": {},
   "outputs": [
    {
     "data": {
      "text/plain": [
       "[8, 2, 6]"
      ]
     },
     "execution_count": 369,
     "metadata": {},
     "output_type": "execute_result"
    }
   ],
   "source": [
    "camino"
   ]
  },
  {
   "cell_type": "code",
   "execution_count": null,
   "metadata": {},
   "outputs": [],
   "source": []
  }
 ],
 "metadata": {
  "kernelspec": {
   "display_name": "Python 3",
   "language": "python",
   "name": "python3"
  },
  "language_info": {
   "codemirror_mode": {
    "name": "ipython",
    "version": 3
   },
   "file_extension": ".py",
   "mimetype": "text/x-python",
   "name": "python",
   "nbconvert_exporter": "python",
   "pygments_lexer": "ipython3",
   "version": "3.7.1"
  }
 },
 "nbformat": 4,
 "nbformat_minor": 4
}
