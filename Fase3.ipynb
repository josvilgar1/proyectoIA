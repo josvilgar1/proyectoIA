{
 "cells": [
  {
   "cell_type": "code",
   "execution_count": 128,
   "metadata": {},
   "outputs": [],
   "source": [
    "import numpy as np\n",
    "import random as random\n",
    "from numpy import random\n",
    "\n",
    "import matplotlib.pyplot as plt"
   ]
  },
  {
   "cell_type": "code",
   "execution_count": 2,
   "metadata": {},
   "outputs": [],
   "source": [
    "def obtainRMatrix(m, horizVertValue, diagonValue):\n",
    "    Rsize = size**2\n",
    "    rMatrix = inicializeRMatrix(num_col,num_fil)\n",
    "    res=[]\n",
    "    horizVert=horizVertValue\n",
    "    diagon=diagonValue\n",
    "    for i in range(num_fil):\n",
    "        for j in range(num_col):\n",
    "            n0 = m[i][j]\n",
    "            if 0<i<num_fil-1:\n",
    "                rMatrix[m[i][j]][m[i-1][j]]=horizVert\n",
    "                rMatrix[m[i][j]][m[i+1][j]]=horizVert\n",
    "                \n",
    "                if(0<j<num_col-1):\n",
    "                    rMatrix[m[i][j]][m[i-1][j-1]]=diagon\n",
    "                    rMatrix[m[i][j]][m[i-1][j+1]]=diagon\n",
    "                    rMatrix[m[i][j]][m[i+1][j-1]]=diagon\n",
    "                    rMatrix[m[i][j]][m[i+1][j+1]]=diagon\n",
    "                    \n",
    "                    rMatrix[m[i][j]][m[i][j-1]]=horizVert\n",
    "                    rMatrix[m[i][j]][m[i][j+1]]=horizVert\n",
    "                    \n",
    "                if(j==0):\n",
    "                    rMatrix[m[i][j]][m[i-1][j+1]]=diagon\n",
    "                    rMatrix[m[i][j]][m[i+1][j+1]]=diagon\n",
    "                    \n",
    "                    rMatrix[m[i][j]][m[i][j+1]]=horizVert\n",
    "                    \n",
    "                if(j==num_col-1):\n",
    "                    rMatrix[m[i][j]][m[i-1][j-1]]=diagon\n",
    "                    rMatrix[m[i][j]][m[i+1][j-1]]=diagon\n",
    "                    \n",
    "                    rMatrix[m[i][j]][m[i][j-1]]=horizVert\n",
    "                    \n",
    "            elif(i==0):\n",
    "                rMatrix[m[i][j]][m[i+1][j]]=horizVert             \n",
    "                \n",
    "                if(j==0):\n",
    "                    rMatrix[m[i][j]][m[i+1][j+1]]=diagon\n",
    "                    \n",
    "                    rMatrix[m[i][j]][m[i][j+1]]=horizVert\n",
    "                    \n",
    "                if(j==num_col-1):\n",
    "                    rMatrix[m[i][j]][m[i+1][j-1]]=diagon\n",
    "                    \n",
    "                    rMatrix[m[i][j]][m[i][j-1]]=horizVert\n",
    "                    \n",
    "                if(0<j<num_col-1):\n",
    "                    rMatrix[m[i][j]][m[i+1][j-1]]=diagon  \n",
    "                    rMatrix[m[i][j]][m[i+1][j+1]]=diagon  \n",
    "                    \n",
    "                    rMatrix[m[i][j]][m[i][j+1]]=horizVert \n",
    "                    rMatrix[m[i][j]][m[i][j-1]]=horizVert \n",
    "                    \n",
    "            elif i==num_fil-1:\n",
    "                rMatrix[m[i][j]][m[i-1][j]]=horizVert  \n",
    "                if(j==0):\n",
    "                    rMatrix[m[i][j]][m[i-1][j+1]]=diagon  \n",
    "                    \n",
    "                    rMatrix[m[i][j]][m[i][j+1]]=horizVert  \n",
    "                if(j==num_col-1):\n",
    "                    rMatrix[m[i][j]][m[i-1][j-1]]=diagon  \n",
    "                    \n",
    "                    rMatrix[m[i][j]][m[i][j-1]]=horizVert  \n",
    "                if(0<j<num_col-1):\n",
    "                    rMatrix[m[i][j]][m[i-1][j+1]]=diagon  \n",
    "                    rMatrix[m[i][j]][m[i-1][j-1]]=diagon  \n",
    "                    \n",
    "                    rMatrix[m[i][j]][m[i][j+1]]=horizVert \n",
    "                    rMatrix[m[i][j]][m[i][j-1]]=horizVert  \n",
    "    return rMatrix"
   ]
  },
  {
   "cell_type": "code",
   "execution_count": 3,
   "metadata": {},
   "outputs": [],
   "source": [
    "def addObjetives(R,objetives):\n",
    "    for objetive in objetives:\n",
    "        for i in range(num_fil**2):\n",
    "            R[i][objetive] = 100 if (R[i][objetive]!=-1) else -1       \n",
    "        R[objetive][objetive] = 100\n",
    "    return R          "
   ]
  },
  {
   "cell_type": "code",
   "execution_count": 4,
   "metadata": {},
   "outputs": [],
   "source": [
    "def addLayerToMatrix(matrix, layer, count):\n",
    "    for i in range(layer):\n",
    "        \n",
    "        matrix[layer][i] = int(count)\n",
    "        count=count+1\n",
    "        \n",
    "    for i in range(layer+1):\n",
    "        \n",
    "        matrix[layer-i][layer] = int(count)\n",
    "        count=count+1\n",
    "        \n",
    "    return [matrix, count]"
   ]
  },
  {
   "cell_type": "code",
   "execution_count": 5,
   "metadata": {},
   "outputs": [],
   "source": [
    "def createMatrix(m,tam):\n",
    "    layer=0\n",
    "    for i in range(tam):\n",
    "        [m,layer]=addLayerToMatrix(m,i,layer)\n",
    "    return m"
   ]
  },
  {
   "cell_type": "code",
   "execution_count": 6,
   "metadata": {},
   "outputs": [],
   "source": [
    "def inicializeRMatrix(numRows, numCols):\n",
    "    return np.array([-1 for _ in range((numRows**2)*(numCols**2))]).reshape(numRows**2, numCols**2)"
   ]
  },
  {
   "cell_type": "markdown",
   "metadata": {},
   "source": [
    "Algoritmo de aprendizaje \n",
    "-----------------------------------------------------------"
   ]
  },
  {
   "cell_type": "code",
   "execution_count": 7,
   "metadata": {},
   "outputs": [],
   "source": [
    "def acciones ( matriz, estado ):\n",
    "    fila_estado = matriz [ estado , : ]\n",
    "    acciones = [ ]\n",
    "    for n in range ( len ( fila_estado ) ):\n",
    "        if (fila_estado [ n ] != -1):\n",
    "            acciones.append(n)\n",
    "    return (acciones)"
   ]
  },
  {
   "cell_type": "code",
   "execution_count": 8,
   "metadata": {},
   "outputs": [],
   "source": [
    "def acciones1 ( matriz, estado ):\n",
    "    rRow=matriz[estado]\n",
    "    possibleStatesIndex = np.where(rRow != -1)\n",
    "    acciones = possibleStatesIndex\n",
    "    return (acciones)"
   ]
  },
  {
   "cell_type": "code",
   "execution_count": 9,
   "metadata": {},
   "outputs": [],
   "source": [
    "def maxQValue(Q, R, estado):\n",
    "    #obtener los estados accesibles desde la matriz R\n",
    "    rRow = R[estado]\n",
    "    qRow = Q[estado]\n",
    "    possibleStatesIndex = np.where(rRow != -1)\n",
    "    #obtener los valores en la matriz Q\n",
    "    qLista=qRow[possibleStatesIndex]\n",
    "    #devolver el máximo\n",
    "    maxValue=np.amax(qLista)\n",
    "    return maxValue"
   ]
  },
  {
   "cell_type": "code",
   "execution_count": 126,
   "metadata": {},
   "outputs": [],
   "source": [
    "def entrenarQFase2 ( Q, R, Gamma, objetivo, num_episodios, alpha, epsilon ):\n",
    "    #Convertir los valores alpha y epsilon a decimales\n",
    "    alpha = float( alpha )\n",
    "    epsilon = float( epsilon )\n",
    "    rendimiento = []\n",
    "    while num_episodios > 0:\n",
    "        estado = random.randint ( 0, (num_fil**2) - 1 )\n",
    "\n",
    "        while ( estado != objetivo ):\n",
    "            #Selección aleatoria del número que va a ser comparado con epsilon\n",
    "            numero_aleatorio = random.uniform( 0, 1 ) \n",
    "            if numero_aleatorio < epsilon:\n",
    "                #Número aleatorio < epsilon --> Acción aleatoria\n",
    " #               rRow = R[estado]\n",
    " #               acciones = np.where(rRow != -1)\n",
    "                posiblesAcciones = np.asarray(acciones1(R,estado)).flatten()\n",
    "                accion_elegida = np.random.choice (posiblesAcciones)\n",
    "\n",
    "            else:\n",
    "                #Número aleatorio >= epsilon --> Seleccionamos la acción con el máximo valor en la tabla Q\n",
    "                qRow = Q [ estado ]\n",
    "                rRow = R[ estado ]\n",
    "                \n",
    "                listaPosibles = takePossibleActionsWithMax(qRow, rRow)\n",
    "                accion_elegida = np.random.choice (np.asarray(listaPosibles).flatten())\n",
    " #               print(\"Estado:\", estado, \"listaPosibles\", listaPosibles, \"ae\", accion_elegida)\n",
    "            siguiente_estado = accion_elegida\n",
    "            Q [ estado, accion_elegida ] = R [ estado, accion_elegida ] + Gamma * maxQValue(Q,R,siguiente_estado)\n",
    "            estado = siguiente_estado\n",
    "            \n",
    "        rendimiento.append((Q.sum()/np.max(Q))*100)\n",
    "        num_episodios = num_episodios - 1\n",
    "        epsilon = epsilon * alpha\n",
    "    return Q, rendimiento"
   ]
  },
  {
   "cell_type": "code",
   "execution_count": 11,
   "metadata": {},
   "outputs": [],
   "source": [
    "#####Obtenemos los estados que cumplen la condicion qRow[i] == mavValue && rRow[i] != -1 ####\n",
    "def takePossibleActionsWithMax(qRow, rRow):        \n",
    "    maxValue = np.max( qRow )\n",
    "\n",
    "    posiblesAccionesQ = np.where(qRow == maxValue)\n",
    "    posiblesAccionesR = np.where(rRow != -1)\n",
    "\n",
    "    listaPosibles = list(set(posiblesAccionesQ[0]) & set(posiblesAccionesR[0]))\n",
    "    return listaPosibles"
   ]
  },
  {
   "cell_type": "code",
   "execution_count": 12,
   "metadata": {},
   "outputs": [],
   "source": [
    "def entrenarQFase1 ( Q, R, Gamma, objetivo, num_episodios ):\n",
    "    while num_episodios > 0:\n",
    "        estado = random.randint ( 0, num_fil**2 - 1 )\n",
    "        while ( estado != objetivo ):\n",
    "            #acciones = acciones ( R, estado )\n",
    "            accion_elegida = random.choice ( acciones ( R, estado ) , 1)\n",
    "            siguiente_estado = accion_elegida\n",
    "            Q [ estado, accion_elegida ] = R [ estado, accion_elegida ] + Gamma * maxQValue(Q,R,siguiente_estado)\n",
    "            estado = siguiente_estado\n",
    "        num_episodios = num_episodios - 1\n",
    "    return Q"
   ]
  },
  {
   "cell_type": "code",
   "execution_count": 13,
   "metadata": {},
   "outputs": [
    {
     "name": "stdin",
     "output_type": "stream",
     "text": [
      "¿Cuál es el estado objetivo? 15\n"
     ]
    }
   ],
   "source": [
    "objetivo = int(input('¿Cuál es el estado objetivo?'))"
   ]
  },
  {
   "cell_type": "code",
   "execution_count": 14,
   "metadata": {},
   "outputs": [
    {
     "name": "stdin",
     "output_type": "stream",
     "text": [
      "¿Cuál es el tamaño del problema?  5\n"
     ]
    }
   ],
   "source": [
    "size = int(input('¿Cuál es el tamaño del problema? '))\n",
    "num_col = size\n",
    "num_fil = size\n",
    "states = (num_col*num_fil)**2"
   ]
  },
  {
   "cell_type": "code",
   "execution_count": 139,
   "metadata": {},
   "outputs": [
    {
     "name": "stdin",
     "output_type": "stream",
     "text": [
      "Seleccione un parámetro alpha: [0,1]:  0.5\n",
      "Seleccione un parámetro epsilon: [0,1]:  0.5\n"
     ]
    }
   ],
   "source": [
    "alpha = input('Seleccione un parámetro alpha: [0,1]: ')\n",
    "epsilon = input('Seleccione un parámetro epsilon: [0,1]: ')"
   ]
  },
  {
   "cell_type": "code",
   "execution_count": 133,
   "metadata": {},
   "outputs": [],
   "source": [
    "zeroMatrix= np.zeros((num_fil,num_col))\n",
    "tablero = createMatrix(zeroMatrix,size).astype(int)\n",
    "rMatrix=obtainRMatrix(tablero, 10, 6)\n",
    "rMatrix=addObjetives(rMatrix,[objetivo])\n",
    "qMatrix = np.zeros((size**2,size**2)).astype(int)"
   ]
  },
  {
   "cell_type": "code",
   "execution_count": 134,
   "metadata": {},
   "outputs": [
    {
     "data": {
      "text/plain": [
       "array([[ 0,  3,  8, 15, 24],\n",
       "       [ 1,  2,  7, 14, 23],\n",
       "       [ 4,  5,  6, 13, 22],\n",
       "       [ 9, 10, 11, 12, 21],\n",
       "       [16, 17, 18, 19, 20]])"
      ]
     },
     "execution_count": 134,
     "metadata": {},
     "output_type": "execute_result"
    }
   ],
   "source": [
    "tablero"
   ]
  },
  {
   "cell_type": "code",
   "execution_count": 141,
   "metadata": {},
   "outputs": [
    {
     "data": {
      "image/png": "[encoded data removed]",
      "text/plain": [
       "<Figure size 432x288 with 1 Axes>"
      ]
     },
     "metadata": {
      "needs_background": "light"
     },
     "output_type": "display_data"
    },
    {
     "name": "stdout",
     "output_type": "stream",
     "text": [
      "[[  0   0  59   0   0   0   0   0   0   0   0   0   0   0   0   0   0   0\n",
      "    0   0   0   0   0   0   0]\n",
      " [ 14   0   0   0  45   0   0   0   0   0   0   0   0   0   0   0   0   0\n",
      "    0   0   0   0   0   0   0]\n",
      " [ 39   0   0   0  41  67   0   0   6   0   0   0   0   0   0   0   0   0\n",
      "    0   0   0   0   0   0   0]\n",
      " [  0   0   0   0   0   0   0   0  43   0   0   0   0   0   0   0   0   0\n",
      "    0   0   0   0   0   0   0]\n",
      " [  0  44  42   0   0  67   0   0   0   0  42   0   0   0   0   0   0   0\n",
      "    0   0   0   0   0   0   0]\n",
      " [  0   6  46   0   0   0  46   0   0  14  72  42   0   0   0   0   0   0\n",
      "    0   0   0   0   0   0   0]\n",
      " [  0   0  42   0   0   0   0  90   0   0  42  46   6   0   0   0   0   0\n",
      "    0   0   0   0   0   0   0]\n",
      " [  0   0  18   0   0  42  46   0   0   0   0   0   0  35   0 100   0   0\n",
      "    0   0   0   0   0   0   0]\n",
      " [  0   0  59   0   0   0   0   0   0   0   0   0   0   0   0   0   0   0\n",
      "    0   0   0   0   0   0   0]\n",
      " [  0   0   0   0  63   0   0   0   0   0   0   0   0   0   0   0   0   0\n",
      "    0   0   0   0   0   0   0]\n",
      " [  0   0   0   0  42  44  78   0   0  46   0  46   0   0   0   0  42  46\n",
      "   42   0   0   0   0   0   0]\n",
      " [  0   0   0   0   0  42  82   0   0   0  46   0   0   6   0   0   0  42\n",
      "   46  39   0   0   0   0   0]\n",
      " [  0   0   0   0   0   0  78   0   0   0   0   0   0   0   0   0   0   0\n",
      "    0   0   0  41   0   0   0]\n",
      " [  0   0   0   0   0   0   0   0   0   0   0   0  18   0   0   0   0   0\n",
      "    0   0   0  55   0   0   0]\n",
      " [  0   0   0   0   0   0   0   0   0   0   0   0   0  39   0   0   0   0\n",
      "    0   0   0   0   0  10   0]\n",
      " [  0   0   0   0   0   0   0   0   0   0   0   0   0   0   0   0   0   0\n",
      "    0   0   0   0   0   0   0]\n",
      " [  0   0   0   0   0   0   0   0   0   0  42   0   0   0   0   0   0  46\n",
      "    0   0   0   0   0   0   0]\n",
      " [  0   0   0   0   0   0   0   0   0   0  72  42   0   0   0   0  46   0\n",
      "   46   0   0   0   0   0   0]\n",
      " [  0   0   0   0   0   0   0   0   0   0  42  46  38   0   0   0   0  46\n",
      "    0  43   0   0   0   0   0]\n",
      " [  0   0   0   0   0   0   0   0   0   0   0  71   0   0   0   0   0   0\n",
      "    0   0  10  37   0   0   0]\n",
      " [  0   0   0   0   0   0   0   0   0   0   0   0   0   0   0   0   0   0\n",
      "    0  66   0   0   0   0   0]\n",
      " [  0   0   0   0   0   0   0   0   0   0   0   0   0   0   0   0   0   0\n",
      "    0  62   0   0  14   0   0]\n",
      " [  0   0   0   0   0   0   0   0   0   0   0   0  39   0   6   0   0   0\n",
      "    0   0   0   0   0   0   0]\n",
      " [  0   0   0   0   0   0   0   0   0   0   0   0   0   0   0   0   0   0\n",
      "    0   0   0   0   0   0  39]\n",
      " [  0   0   0   0   0   0   0   0   0   0   0   0   0   0  37   0   0   0\n",
      "    0   0   0   0   0   0   0]]\n"
     ]
    }
   ],
   "source": [
    "qMatrix = np.zeros((size**2,size**2)).astype(int)\n",
    "rend=0\n",
    "[qTrained, rend] = entrenarQFase2(qMatrix, rMatrix, 0.8, objetivo, 30, alpha, epsilon)\n",
    "\n",
    "plt.plot(rend)\n",
    "plt.ylabel('some numbers')\n",
    "plt.show()\n",
    "print(qTrained)"
   ]
  },
  {
   "cell_type": "code",
   "execution_count": 93,
   "metadata": {},
   "outputs": [
    {
     "data": {
      "text/plain": [
       "array([[ -1,  10,   6,  10,  -1,  -1,  -1,  -1,  -1,  -1,  -1,  -1,  -1,\n",
       "         -1,  -1,  -1,  -1,  -1,  -1,  -1,  -1,  -1,  -1,  -1,  -1],\n",
       "       [ 10,  -1,  10,   6,  10,   6,  -1,  -1,  -1,  -1,  -1,  -1,  -1,\n",
       "         -1,  -1,  -1,  -1,  -1,  -1,  -1,  -1,  -1,  -1,  -1,  -1],\n",
       "       [  6,  10,  -1,  10,   6,  10,   6,  10,   6,  -1,  -1,  -1,  -1,\n",
       "         -1,  -1,  -1,  -1,  -1,  -1,  -1,  -1,  -1,  -1,  -1,  -1],\n",
       "       [ 10,   6,  10,  -1,  -1,  -1,  -1,   6,  10,  -1,  -1,  -1,  -1,\n",
       "         -1,  -1,  -1,  -1,  -1,  -1,  -1,  -1,  -1,  -1,  -1,  -1],\n",
       "       [ -1,  10,   6,  -1,  -1,  10,  -1,  -1,  -1,  10,   6,  -1,  -1,\n",
       "         -1,  -1,  -1,  -1,  -1,  -1,  -1,  -1,  -1,  -1,  -1,  -1],\n",
       "       [ -1,   6,  10,  -1,  10,  -1,  10,   6,  -1,   6,  10,   6,  -1,\n",
       "         -1,  -1,  -1,  -1,  -1,  -1,  -1,  -1,  -1,  -1,  -1,  -1],\n",
       "       [ -1,  -1,   6,  -1,  -1,  10,  -1,  10,  -1,  -1,   6,  10,   6,\n",
       "         10,   6,  -1,  -1,  -1,  -1,  -1,  -1,  -1,  -1,  -1,  -1],\n",
       "       [ -1,  -1,  10,   6,  -1,   6,  10,  -1,  10,  -1,  -1,  -1,  -1,\n",
       "          6,  10, 100,  -1,  -1,  -1,  -1,  -1,  -1,  -1,  -1,  -1],\n",
       "       [ -1,  -1,   6,  10,  -1,  -1,  -1,  10,  -1,  -1,  -1,  -1,  -1,\n",
       "         -1,   6, 100,  -1,  -1,  -1,  -1,  -1,  -1,  -1,  -1,  -1],\n",
       "       [ -1,  -1,  -1,  -1,  10,   6,  -1,  -1,  -1,  -1,  10,  -1,  -1,\n",
       "         -1,  -1,  -1,  10,   6,  -1,  -1,  -1,  -1,  -1,  -1,  -1],\n",
       "       [ -1,  -1,  -1,  -1,   6,  10,   6,  -1,  -1,  10,  -1,  10,  -1,\n",
       "         -1,  -1,  -1,   6,  10,   6,  -1,  -1,  -1,  -1,  -1,  -1],\n",
       "       [ -1,  -1,  -1,  -1,  -1,   6,  10,  -1,  -1,  -1,  10,  -1,  10,\n",
       "          6,  -1,  -1,  -1,   6,  10,   6,  -1,  -1,  -1,  -1,  -1],\n",
       "       [ -1,  -1,  -1,  -1,  -1,  -1,   6,  -1,  -1,  -1,  -1,  10,  -1,\n",
       "         10,  -1,  -1,  -1,  -1,   6,  10,   6,  10,   6,  -1,  -1],\n",
       "       [ -1,  -1,  -1,  -1,  -1,  -1,  10,   6,  -1,  -1,  -1,   6,  10,\n",
       "         -1,  10,  -1,  -1,  -1,  -1,  -1,  -1,   6,  10,   6,  -1],\n",
       "       [ -1,  -1,  -1,  -1,  -1,  -1,   6,  10,   6,  -1,  -1,  -1,  -1,\n",
       "         10,  -1, 100,  -1,  -1,  -1,  -1,  -1,  -1,   6,  10,   6],\n",
       "       [ -1,  -1,  -1,  -1,  -1,  -1,  -1,   6,  10,  -1,  -1,  -1,  -1,\n",
       "         -1,  10, 100,  -1,  -1,  -1,  -1,  -1,  -1,  -1,   6,  10],\n",
       "       [ -1,  -1,  -1,  -1,  -1,  -1,  -1,  -1,  -1,  10,   6,  -1,  -1,\n",
       "         -1,  -1,  -1,  -1,  10,  -1,  -1,  -1,  -1,  -1,  -1,  -1],\n",
       "       [ -1,  -1,  -1,  -1,  -1,  -1,  -1,  -1,  -1,   6,  10,   6,  -1,\n",
       "         -1,  -1,  -1,  10,  -1,  10,  -1,  -1,  -1,  -1,  -1,  -1],\n",
       "       [ -1,  -1,  -1,  -1,  -1,  -1,  -1,  -1,  -1,  -1,   6,  10,   6,\n",
       "         -1,  -1,  -1,  -1,  10,  -1,  10,  -1,  -1,  -1,  -1,  -1],\n",
       "       [ -1,  -1,  -1,  -1,  -1,  -1,  -1,  -1,  -1,  -1,  -1,   6,  10,\n",
       "         -1,  -1,  -1,  -1,  -1,  10,  -1,  10,   6,  -1,  -1,  -1],\n",
       "       [ -1,  -1,  -1,  -1,  -1,  -1,  -1,  -1,  -1,  -1,  -1,  -1,   6,\n",
       "         -1,  -1,  -1,  -1,  -1,  -1,  10,  -1,  10,  -1,  -1,  -1],\n",
       "       [ -1,  -1,  -1,  -1,  -1,  -1,  -1,  -1,  -1,  -1,  -1,  -1,  10,\n",
       "          6,  -1,  -1,  -1,  -1,  -1,   6,  10,  -1,  10,  -1,  -1],\n",
       "       [ -1,  -1,  -1,  -1,  -1,  -1,  -1,  -1,  -1,  -1,  -1,  -1,   6,\n",
       "         10,   6,  -1,  -1,  -1,  -1,  -1,  -1,  10,  -1,  10,  -1],\n",
       "       [ -1,  -1,  -1,  -1,  -1,  -1,  -1,  -1,  -1,  -1,  -1,  -1,  -1,\n",
       "          6,  10, 100,  -1,  -1,  -1,  -1,  -1,  -1,  10,  -1,  10],\n",
       "       [ -1,  -1,  -1,  -1,  -1,  -1,  -1,  -1,  -1,  -1,  -1,  -1,  -1,\n",
       "         -1,   6, 100,  -1,  -1,  -1,  -1,  -1,  -1,  -1,  10,  -1]])"
      ]
     },
     "execution_count": 93,
     "metadata": {},
     "output_type": "execute_result"
    }
   ],
   "source": [
    "rMatrix"
   ]
  },
  {
   "cell_type": "code",
   "execution_count": null,
   "metadata": {},
   "outputs": [],
   "source": [
    "qMatrix = np.zeros((size**2,size**2)).astype(int)\n",
    "entrenarQFase1(qMatrix, rMatrix, 0.8, objetivo, 10000)"
   ]
  },
  {
   "cell_type": "code",
   "execution_count": null,
   "metadata": {},
   "outputs": [],
   "source": [
    "qMatrix=(qMatrix/np.max(qMatrix))*100"
   ]
  },
  {
   "cell_type": "markdown",
   "metadata": {},
   "source": [
    "Camino eficiente\n",
    "-----------------------------------------------------------"
   ]
  },
  {
   "cell_type": "code",
   "execution_count": 25,
   "metadata": {},
   "outputs": [],
   "source": [
    "def findOptimalWay(initialState, Q, objetive):\n",
    "    #paso1 \n",
    "    actualState = initialState\n",
    "    camino = [initialState]\n",
    "    contador=0\n",
    "    totalValue=0\n",
    "    #paso2\n",
    "    while(actualState!=objetive):\n",
    "        qRow = Q[actualState]\n",
    "        maxValue = np.max(qRow)\n",
    "        maxValueIndex = np.where(qRow == maxValue)\n",
    "        nextState=maxValueIndex[0][0]\n",
    "        camino.append(nextState)\n",
    "        #paso3\n",
    "        totalValue += maxValue \n",
    "        actualState=nextState\n",
    "        print(actualState)\n",
    "        contador=contador+1\n",
    "    return camino, contador, totalValue\n",
    "    "
   ]
  },
  {
   "cell_type": "code",
   "execution_count": 110,
   "metadata": {},
   "outputs": [
    {
     "name": "stdout",
     "output_type": "stream",
     "text": [
      "12\n",
      "13\n",
      "22\n",
      "23\n",
      "15\n"
     ]
    },
    {
     "data": {
      "text/plain": [
       "[19, 12, 13, 22, 23, 15]"
      ]
     },
     "execution_count": 110,
     "metadata": {},
     "output_type": "execute_result"
    }
   ],
   "source": [
    "[camino,contador,totalValue]=findOptimalWay(19, qMatrix, objetivo)\n",
    "camino"
   ]
  },
  {
   "cell_type": "code",
   "execution_count": 38,
   "metadata": {},
   "outputs": [
    {
     "data": {
      "text/plain": [
       "array([[ 0,  3,  8, 15, 24],\n",
       "       [ 1,  2,  7, 14, 23],\n",
       "       [ 4,  5,  6, 13, 22],\n",
       "       [ 9, 10, 11, 12, 21],\n",
       "       [16, 17, 18, 19, 20]])"
      ]
     },
     "execution_count": 38,
     "metadata": {},
     "output_type": "execute_result"
    }
   ],
   "source": [
    "tablero"
   ]
  },
  {
   "cell_type": "code",
   "execution_count": 30,
   "metadata": {},
   "outputs": [
    {
     "data": {
      "text/plain": [
       "array([[  0,  50,   0,   0,   0,   0,   0,   0,   0,   0,   0,   0,   0,\n",
       "          0,   0,   0,   0,   0,   0,   0,   0,   0,   0,   0,   0],\n",
       "       [  0,   0,  50,   0,   0,   0,   0,   0,   0,   0,   0,   0,   0,\n",
       "          0,   0,   0,   0,   0,   0,   0,   0,   0,   0,   0,   0],\n",
       "       [  0,   0,   0,   0,  50,   0,   0,   0,   6,   0,   0,   0,   0,\n",
       "          0,   0,   0,   0,   0,   0,   0,   0,   0,   0,   0,   0],\n",
       "       [  0,   0,  50,   0,   0,   0,   0,   0,   0,   0,   0,   0,   0,\n",
       "          0,   0,   0,   0,   0,   0,   0,   0,   0,   0,   0,   0],\n",
       "       [  0,  18,  26,   0,   0,   0,   0,   0,   0,   0,  55,   0,   0,\n",
       "          0,   0,   0,   0,   0,   0,   0,   0,   0,   0,   0,   0],\n",
       "       [  0,   0,   0,   0,   0,   0,   0,   0,   0,  37,   0,  58,   0,\n",
       "          0,   0,   0,   0,   0,   0,   0,   0,   0,   0,   0,   0],\n",
       "       [  0,   0,   0,   0,   0,   0,   0,  10,   0,   0,   0,   0,  42,\n",
       "         70,   0,   0,   0,   0,   0,   0,   0,   0,   0,   0,   0],\n",
       "       [  0,   0,   0,   0,   0,   0,   0,   0,   0,   0,   0,   0,   0,\n",
       "          0,   0, 100,   0,   0,   0,   0,   0,   0,   0,   0,   0],\n",
       "       [  0,   0,   0,   0,   0,   0,   0,  90,   0,   0,   0,   0,   0,\n",
       "          0,   0,   0,   0,   0,   0,   0,   0,   0,   0,   0,   0],\n",
       "       [  0,   0,   0,   0,   0,  39,   0,   0,   0,   0,  59,   0,   0,\n",
       "          0,   0,   0,   0,  42,   0,   0,   0,   0,   0,   0,   0],\n",
       "       [  0,   0,   0,   0,  39,  43,  40,   0,   0,  41,   0,  62,   0,\n",
       "          0,   0,   0,  42,  46,  42,   0,   0,   0,   0,   0,   0],\n",
       "       [  0,   0,   0,   0,   0,  39,  43,   0,   0,   0,  46,   0,  66,\n",
       "         39,   0,   0,   0,  42,  46,  42,   0,   0,   0,   0,   0],\n",
       "       [  0,   0,   0,   0,   0,   0,  39,   0,   0,   0,   0,  46,   0,\n",
       "         43,   0,   0,   0,   0,  42,   0,  42,  70,  42,   0,   0],\n",
       "       [  0,   0,   0,   0,   0,   0,  46,   0,   0,   0,   0,  42,   0,\n",
       "          0,   0,   0,   0,   0,   0,   0,   0,   0,  75,   0,   0],\n",
       "       [  0,   0,   0,   0,   0,   0,   0,   0,   0,   0,   0,   0,   0,\n",
       "         70,   0,   0,   0,   0,   0,   0,   0,   0,   0,   0,   0],\n",
       "       [  0,   0,   0,   0,   0,   0,   0,   0,   0,   0,   0,   0,   0,\n",
       "          0,   0,   0,   0,   0,   0,   0,   0,   0,   0,   0,   0],\n",
       "       [  0,   0,   0,   0,   0,   0,   0,   0,   0,  57,  42,   0,   0,\n",
       "          0,   0,   0,   0,  46,   0,   0,   0,   0,   0,   0,   0],\n",
       "       [  0,   0,   0,   0,   0,   0,   0,   0,   0,  42,  59,  42,   0,\n",
       "          0,   0,   0,  46,   0,  46,   0,   0,   0,   0,   0,   0],\n",
       "       [  0,   0,   0,   0,   0,   0,   0,   0,   0,   0,  42,  46,  42,\n",
       "          0,   0,   0,   0,  46,   0,  62,   0,   0,   0,   0,   0],\n",
       "       [  0,   0,   0,   0,   0,   0,   0,   0,   0,   0,   0,  42,  66,\n",
       "          0,   0,   0,   0,   0,  46,   0,  43,  42,   0,   0,   0],\n",
       "       [  0,   0,   0,   0,   0,   0,   0,   0,   0,   0,   0,   0,  42,\n",
       "          0,   0,   0,   0,   0,   0,   0,   0,  70,   0,   0,   0],\n",
       "       [  0,   0,   0,   0,   0,   0,   0,   0,   0,   0,   0,   0,  46,\n",
       "         39,   0,   0,   0,   0,   0,  42,  46,   0,  75,   0,   0],\n",
       "       [  0,   0,   0,   0,   0,   0,   0,   0,   0,   0,   0,   0,   0,\n",
       "         43,   0,   0,   0,   0,   0,   0,   0,  46,   0,  82,   0],\n",
       "       [  0,   0,   0,   0,   0,   0,   0,   0,   0,   0,   0,   0,   0,\n",
       "          0,   0,   0,   0,   0,   0,   0,   0,   0,   0,   0,  90],\n",
       "       [  0,   0,   0,   0,   0,   0,   0,   0,   0,   0,   0,   0,   0,\n",
       "          0,   0, 100,   0,   0,   0,   0,   0,   0,   0,   0,   0]])"
      ]
     },
     "execution_count": 30,
     "metadata": {},
     "output_type": "execute_result"
    }
   ],
   "source": [
    "qMatrix"
   ]
  },
  {
   "cell_type": "code",
   "execution_count": null,
   "metadata": {},
   "outputs": [],
   "source": [
    "\n",
    "\n",
    "tablero"
   ]
  },
  {
   "cell_type": "code",
   "execution_count": null,
   "metadata": {},
   "outputs": [],
   "source": []
  }
 ],
 "metadata": {
  "kernelspec": {
   "display_name": "Python 3",
   "language": "python",
   "name": "python3"
  },
  "language_info": {
   "codemirror_mode": {
    "name": "ipython",
    "version": 3
   },
   "file_extension": ".py",
   "mimetype": "text/x-python",
   "name": "python",
   "nbconvert_exporter": "python",
   "pygments_lexer": "ipython3",
   "version": "3.7.6"
  }
 },
 "nbformat": 4,
 "nbformat_minor": 4
}
