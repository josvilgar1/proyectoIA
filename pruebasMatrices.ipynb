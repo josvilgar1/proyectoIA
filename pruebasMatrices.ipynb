{
 "cells": [
  {
   "cell_type": "code",
   "execution_count": 7,
   "metadata": {},
   "outputs": [],
   "source": [
    "import numpy as np"
   ]
  },
  {
   "cell_type": "code",
   "execution_count": 8,
   "metadata": {},
   "outputs": [],
   "source": [
    "a = np.zeros((3,2))"
   ]
  },
  {
   "cell_type": "code",
   "execution_count": 9,
   "metadata": {},
   "outputs": [
    {
     "name": "stdout",
     "output_type": "stream",
     "text": [
      "[[0. 0.]\n",
      " [0. 0.]\n",
      " [0. 0.]]\n"
     ]
    }
   ],
   "source": [
    "print(a)"
   ]
  },
  {
   "cell_type": "code",
   "execution_count": 10,
   "metadata": {},
   "outputs": [],
   "source": [
    "m = [[1,2,3],[4,5,6],[7,8,9]]"
   ]
  },
  {
   "cell_type": "code",
   "execution_count": 11,
   "metadata": {},
   "outputs": [],
   "source": [
    "matriz = np.array(m)"
   ]
  },
  {
   "cell_type": "code",
   "execution_count": 12,
   "metadata": {},
   "outputs": [
    {
     "name": "stdout",
     "output_type": "stream",
     "text": [
      "[[1 2 3]\n",
      " [4 5 6]\n",
      " [7 8 9]]\n"
     ]
    }
   ],
   "source": [
    "print(matriz)"
   ]
  },
  {
   "cell_type": "code",
   "execution_count": 13,
   "metadata": {},
   "outputs": [],
   "source": [
    "matriz[0,0] = 0"
   ]
  },
  {
   "cell_type": "code",
   "execution_count": 14,
   "metadata": {},
   "outputs": [
    {
     "name": "stdout",
     "output_type": "stream",
     "text": [
      "[[0 2 3]\n",
      " [4 5 6]\n",
      " [7 8 9]]\n"
     ]
    }
   ],
   "source": [
    "print(matriz)"
   ]
  },
  {
   "cell_type": "code",
   "execution_count": 15,
   "metadata": {},
   "outputs": [
    {
     "name": "stdout",
     "output_type": "stream",
     "text": [
      "¿Cuál es el tamaño del problema? 3\n"
     ]
    }
   ],
   "source": [
    "num_filas = input('¿Cuál es el tamaño del problema? ')\n",
    "num_columnas = num_filas"
   ]
  },
  {
   "cell_type": "code",
   "execution_count": 16,
   "metadata": {},
   "outputs": [
    {
     "ename": "TypeError",
     "evalue": "'str' object cannot be interpreted as an integer",
     "output_type": "error",
     "traceback": [
      "\u001b[1;31m---------------------------------------------------------------------------\u001b[0m",
      "\u001b[1;31mTypeError\u001b[0m                                 Traceback (most recent call last)",
      "\u001b[1;32m<ipython-input-16-33c1a0a6d042>\u001b[0m in \u001b[0;36m<module>\u001b[1;34m\u001b[0m\n\u001b[0;32m      1\u001b[0m \u001b[0mm1\u001b[0m \u001b[1;33m=\u001b[0m \u001b[1;33m[\u001b[0m\u001b[1;33m]\u001b[0m\u001b[1;33m\u001b[0m\u001b[1;33m\u001b[0m\u001b[0m\n\u001b[1;32m----> 2\u001b[1;33m \u001b[1;32mfor\u001b[0m \u001b[0mi\u001b[0m \u001b[1;32min\u001b[0m \u001b[0mrange\u001b[0m\u001b[1;33m(\u001b[0m\u001b[0mnum_filas\u001b[0m\u001b[1;33m)\u001b[0m\u001b[1;33m:\u001b[0m\u001b[1;33m\u001b[0m\u001b[1;33m\u001b[0m\u001b[0m\n\u001b[0m\u001b[0;32m      3\u001b[0m     \u001b[0mm1\u001b[0m\u001b[1;33m.\u001b[0m\u001b[0mappend\u001b[0m\u001b[1;33m(\u001b[0m\u001b[1;33m[\u001b[0m\u001b[1;33m]\u001b[0m\u001b[1;33m)\u001b[0m\u001b[1;33m\u001b[0m\u001b[1;33m\u001b[0m\u001b[0m\n\u001b[0;32m      4\u001b[0m     \u001b[1;32mfor\u001b[0m \u001b[0mj\u001b[0m \u001b[1;32min\u001b[0m \u001b[0mrange\u001b[0m\u001b[1;33m(\u001b[0m\u001b[0mnum_columnas\u001b[0m\u001b[1;33m)\u001b[0m\u001b[1;33m:\u001b[0m\u001b[1;33m\u001b[0m\u001b[1;33m\u001b[0m\u001b[0m\n\u001b[0;32m      5\u001b[0m         \u001b[0mm1\u001b[0m\u001b[1;33m[\u001b[0m\u001b[0mi\u001b[0m\u001b[1;33m]\u001b[0m\u001b[1;33m.\u001b[0m\u001b[0mappend\u001b[0m\u001b[1;33m(\u001b[0m\u001b[1;32mNone\u001b[0m\u001b[1;33m)\u001b[0m\u001b[1;33m\u001b[0m\u001b[1;33m\u001b[0m\u001b[0m\n",
      "\u001b[1;31mTypeError\u001b[0m: 'str' object cannot be interpreted as an integer"
     ]
    }
   ],
   "source": [
    "m1 = []\n",
    "for i in range(num_filas):\n",
    "    m1.append([])\n",
    "    for j in range(num_columnas):\n",
    "        m1[i].append(None)\n"
   ]
  },
  {
   "cell_type": "code",
   "execution_count": null,
   "metadata": {},
   "outputs": [],
   "source": [
    "matriz_nueva = np.array(m1)\n",
    "print(matriz_nueva)"
   ]
  },
  {
   "cell_type": "code",
   "execution_count": null,
   "metadata": {},
   "outputs": [],
   "source": [
    "matriz_ejercicio = np.zeros_like(matriz_nueva)\n",
    "print(matriz_ejercicio)"
   ]
  },
  {
   "cell_type": "code",
   "execution_count": null,
   "metadata": {},
   "outputs": [],
   "source": [
    "matriz_ejercicio[0,0] = -1\n",
    "matriz_ejercicio[0,4] = -1\n",
    "matriz_ejercicio[0,5] = -1\n",
    "matriz_ejercicio[0,6] = -1\n",
    "matriz_ejercicio[0,7] = -1\n",
    "matriz_ejercicio[0,8] = -1\n",
    "matriz_ejercicio[1,1] = -1\n",
    "matriz_ejercicio[1,6] = -1\n",
    "matriz_ejercicio[1,7] = -1\n",
    "matriz_ejercicio[1,8] = -1\n",
    "matriz_ejercicio[2,2] = -1\n",
    "matriz_ejercicio[3,3] = -1\n",
    "matriz_ejercicio[3,4] = -1\n",
    "matriz_ejercicio[3,5] = -1\n",
    "matriz_ejercicio[3,6] = -1\n",
    "matriz_ejercicio[4,0] = -1\n",
    "matriz_ejercicio[4,3] = -1\n",
    "matriz_ejercicio[4,4] = -1\n",
    "matriz_ejercicio[4,6] = -1\n",
    "matriz_ejercicio[4,7] = -1\n",
    "matriz_ejercicio[4,8] = -1\n",
    "matriz_ejercicio[5,0] = -1\n",
    "matriz_ejercicio[5,3] = -1\n",
    "matriz_ejercicio[5,5] = -1\n",
    "matriz_ejercicio[5,8] = -1\n",
    "matriz_ejercicio[6,0] = -1\n",
    "matriz_ejercicio[6,1] = -1\n",
    "matriz_ejercicio[6,3] = -1\n",
    "matriz_ejercicio[6,4] = -1\n",
    "matriz_ejercicio[6,8] = -1\n",
    "matriz_ejercicio[7,0] = -1\n",
    "matriz_ejercicio[7,1] = -1\n",
    "matriz_ejercicio[7,4] = -1\n",
    "matriz_ejercicio[7,7] = -1\n",
    "matriz_ejercicio[8,0] = -1\n",
    "matriz_ejercicio[8,1] = -1\n",
    "matriz_ejercicio[8,4] = -1\n",
    "matriz_ejercicio[8,5] = -1\n",
    "matriz_ejercicio[8,6] = -1\n",
    "matriz_ejercicio[8,8] = -1\n",
    "matriz_ejercicio[2,6] = 100\n",
    "matriz_ejercicio[5,6] = 100\n",
    "matriz_ejercicio[6,6] = 100\n",
    "matriz_ejercicio[7,6] = 100"
   ]
  },
  {
   "cell_type": "code",
   "execution_count": null,
   "metadata": {},
   "outputs": [],
   "source": [
    "print(matriz_ejercicio)"
   ]
  },
  {
   "cell_type": "code",
   "execution_count": null,
   "metadata": {},
   "outputs": [],
   "source": [
    "R = matriz_ejercicio\n",
    "print (R)"
   ]
  },
  {
   "cell_type": "code",
   "execution_count": null,
   "metadata": {},
   "outputs": [],
   "source": [
    "Q = np.zeros((9,9))\n",
    "print (Q)"
   ]
  }
 ],
 "metadata": {
  "kernelspec": {
   "display_name": "Python 3",
   "language": "python",
   "name": "python3"
  },
  "language_info": {
   "codemirror_mode": {
    "name": "ipython",
    "version": 3
   },
   "file_extension": ".py",
   "mimetype": "text/x-python",
   "name": "python",
   "nbconvert_exporter": "python",
   "pygments_lexer": "ipython3",
   "version": "3.7.6"
  }
 },
 "nbformat": 4,
 "nbformat_minor": 4
}
