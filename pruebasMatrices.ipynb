{
 "cells": [
  {
   "cell_type": "code",
   "execution_count": 1,
   "metadata": {},
   "outputs": [],
   "source": [
    "import numpy as np\n",
    "import random"
   ]
  },
  {
   "cell_type": "code",
   "execution_count": 2,
   "metadata": {},
   "outputs": [],
   "source": [
    "a = np.zeros((3,2))"
   ]
  },
  {
   "cell_type": "code",
   "execution_count": 3,
   "metadata": {},
   "outputs": [
    {
     "name": "stdout",
     "output_type": "stream",
     "text": [
      "[[0. 0.]\n",
      " [0. 0.]\n",
      " [0. 0.]]\n"
     ]
    }
   ],
   "source": [
    "print(a)"
   ]
  },
  {
   "cell_type": "code",
   "execution_count": 4,
   "metadata": {},
   "outputs": [],
   "source": [
    "m = [[1,2,3],[4,5,6],[7,8,9]]"
   ]
  },
  {
   "cell_type": "code",
   "execution_count": 5,
   "metadata": {},
   "outputs": [],
   "source": [
    "matriz = np.array(m)"
   ]
  },
  {
   "cell_type": "code",
   "execution_count": 6,
   "metadata": {},
   "outputs": [
    {
     "name": "stdout",
     "output_type": "stream",
     "text": [
      "[[1 2 3]\n",
      " [4 5 6]\n",
      " [7 8 9]]\n"
     ]
    }
   ],
   "source": [
    "print(matriz)"
   ]
  },
  {
   "cell_type": "code",
   "execution_count": 7,
   "metadata": {},
   "outputs": [],
   "source": [
    "matriz[0,0] = 0"
   ]
  },
  {
   "cell_type": "code",
   "execution_count": 8,
   "metadata": {},
   "outputs": [
    {
     "name": "stdout",
     "output_type": "stream",
     "text": [
      "[[0 2 3]\n",
      " [4 5 6]\n",
      " [7 8 9]]\n"
     ]
    }
   ],
   "source": [
    "print(matriz)"
   ]
  },
  {
   "cell_type": "code",
   "execution_count": 16,
   "metadata": {},
   "outputs": [],
   "source": [
    "num_filas = 9\n",
    "num_columnas = num_filas"
   ]
  },
  {
   "cell_type": "code",
   "execution_count": 17,
   "metadata": {},
   "outputs": [],
   "source": [
    "m1 = []\n",
    "for i in range(num_filas):\n",
    "    m1.append([])\n",
    "    for j in range(num_columnas):\n",
    "        m1[i].append(None)\n"
   ]
  },
  {
   "cell_type": "code",
   "execution_count": 18,
   "metadata": {},
   "outputs": [
    {
     "name": "stdout",
     "output_type": "stream",
     "text": [
      "[[None None None None None None None None None]\n",
      " [None None None None None None None None None]\n",
      " [None None None None None None None None None]\n",
      " [None None None None None None None None None]\n",
      " [None None None None None None None None None]\n",
      " [None None None None None None None None None]\n",
      " [None None None None None None None None None]\n",
      " [None None None None None None None None None]\n",
      " [None None None None None None None None None]]\n"
     ]
    }
   ],
   "source": [
    "matriz_nueva = np.array(m1)\n",
    "print(matriz_nueva)"
   ]
  },
  {
   "cell_type": "code",
   "execution_count": 19,
   "metadata": {},
   "outputs": [
    {
     "name": "stdout",
     "output_type": "stream",
     "text": [
      "[[0 0 0 0 0 0 0 0 0]\n",
      " [0 0 0 0 0 0 0 0 0]\n",
      " [0 0 0 0 0 0 0 0 0]\n",
      " [0 0 0 0 0 0 0 0 0]\n",
      " [0 0 0 0 0 0 0 0 0]\n",
      " [0 0 0 0 0 0 0 0 0]\n",
      " [0 0 0 0 0 0 0 0 0]\n",
      " [0 0 0 0 0 0 0 0 0]\n",
      " [0 0 0 0 0 0 0 0 0]]\n"
     ]
    }
   ],
   "source": [
    "matriz_ejercicio = np.zeros_like(matriz_nueva)\n",
    "print(matriz_ejercicio)"
   ]
  },
  {
   "cell_type": "code",
   "execution_count": 20,
   "metadata": {},
   "outputs": [],
   "source": [
    "matriz_ejercicio[0,0] = -1\n",
    "matriz_ejercicio[0,4] = -1\n",
    "matriz_ejercicio[0,5] = -1\n",
    "matriz_ejercicio[0,6] = -1\n",
    "matriz_ejercicio[0,7] = -1\n",
    "matriz_ejercicio[0,8] = -1\n",
    "matriz_ejercicio[1,1] = -1\n",
    "matriz_ejercicio[1,6] = -1\n",
    "matriz_ejercicio[1,7] = -1\n",
    "matriz_ejercicio[1,8] = -1\n",
    "matriz_ejercicio[2,2] = -1\n",
    "matriz_ejercicio[3,3] = -1\n",
    "matriz_ejercicio[3,4] = -1\n",
    "matriz_ejercicio[3,5] = -1\n",
    "matriz_ejercicio[3,6] = -1\n",
    "matriz_ejercicio[4,0] = -1\n",
    "matriz_ejercicio[4,3] = -1\n",
    "matriz_ejercicio[4,4] = -1\n",
    "matriz_ejercicio[4,6] = -1\n",
    "matriz_ejercicio[4,7] = -1\n",
    "matriz_ejercicio[4,8] = -1\n",
    "matriz_ejercicio[5,0] = -1\n",
    "matriz_ejercicio[5,3] = -1\n",
    "matriz_ejercicio[5,5] = -1\n",
    "matriz_ejercicio[5,8] = -1\n",
    "matriz_ejercicio[6,0] = -1\n",
    "matriz_ejercicio[6,1] = -1\n",
    "matriz_ejercicio[6,3] = -1\n",
    "matriz_ejercicio[6,4] = -1\n",
    "matriz_ejercicio[6,8] = -1\n",
    "matriz_ejercicio[7,0] = -1\n",
    "matriz_ejercicio[7,1] = -1\n",
    "matriz_ejercicio[7,4] = -1\n",
    "matriz_ejercicio[7,7] = -1\n",
    "matriz_ejercicio[8,0] = -1\n",
    "matriz_ejercicio[8,1] = -1\n",
    "matriz_ejercicio[8,4] = -1\n",
    "matriz_ejercicio[8,5] = -1\n",
    "matriz_ejercicio[8,6] = -1\n",
    "matriz_ejercicio[8,8] = -1\n",
    "matriz_ejercicio[2,6] = 100\n",
    "matriz_ejercicio[5,6] = 100\n",
    "matriz_ejercicio[6,6] = 100\n",
    "matriz_ejercicio[7,6] = 100"
   ]
  },
  {
   "cell_type": "code",
   "execution_count": 21,
   "metadata": {},
   "outputs": [
    {
     "name": "stdout",
     "output_type": "stream",
     "text": [
      "[[-1 0 0 0 -1 -1 -1 -1 -1]\n",
      " [0 -1 0 0 0 0 -1 -1 -1]\n",
      " [0 0 -1 0 0 0 100 0 0]\n",
      " [0 0 0 -1 -1 -1 -1 0 0]\n",
      " [-1 0 0 -1 -1 0 -1 -1 -1]\n",
      " [-1 0 0 -1 0 -1 100 0 -1]\n",
      " [-1 -1 0 -1 -1 0 100 0 -1]\n",
      " [-1 -1 0 0 -1 0 100 -1 0]\n",
      " [-1 -1 0 0 -1 -1 -1 0 -1]]\n"
     ]
    }
   ],
   "source": [
    "print(matriz_ejercicio)"
   ]
  },
  {
   "cell_type": "code",
   "execution_count": 22,
   "metadata": {},
   "outputs": [
    {
     "name": "stdout",
     "output_type": "stream",
     "text": [
      "[[-1 0 0 0 -1 -1 -1 -1 -1]\n",
      " [0 -1 0 0 0 0 -1 -1 -1]\n",
      " [0 0 -1 0 0 0 100 0 0]\n",
      " [0 0 0 -1 -1 -1 -1 0 0]\n",
      " [-1 0 0 -1 -1 0 -1 -1 -1]\n",
      " [-1 0 0 -1 0 -1 100 0 -1]\n",
      " [-1 -1 0 -1 -1 0 100 0 -1]\n",
      " [-1 -1 0 0 -1 0 100 -1 0]\n",
      " [-1 -1 0 0 -1 -1 -1 0 -1]]\n"
     ]
    }
   ],
   "source": [
    "R = matriz_ejercicio\n",
    "print (R)"
   ]
  },
  {
   "cell_type": "code",
   "execution_count": null,
   "metadata": {},
   "outputs": [],
   "source": []
  },
  {
   "cell_type": "code",
   "execution_count": 23,
   "metadata": {},
   "outputs": [
    {
     "name": "stdout",
     "output_type": "stream",
     "text": [
      "[[0. 0. 0. 0. 0. 0. 0. 0. 0.]\n",
      " [0. 0. 0. 0. 0. 0. 0. 0. 0.]\n",
      " [0. 0. 0. 0. 0. 0. 0. 0. 0.]\n",
      " [0. 0. 0. 0. 0. 0. 0. 0. 0.]\n",
      " [0. 0. 0. 0. 0. 0. 0. 0. 0.]\n",
      " [0. 0. 0. 0. 0. 0. 0. 0. 0.]\n",
      " [0. 0. 0. 0. 0. 0. 0. 0. 0.]\n",
      " [0. 0. 0. 0. 0. 0. 0. 0. 0.]\n",
      " [0. 0. 0. 0. 0. 0. 0. 0. 0.]]\n"
     ]
    }
   ],
   "source": [
    "Q = np.zeros((9,9))\n",
    "print (Q)"
   ]
  },
  {
   "cell_type": "code",
   "execution_count": null,
   "metadata": {},
   "outputs": [],
   "source": [
    "#Entrenar Q\n",
    "#\n",
    "#episodio (estado inicial, objetivo)\n",
    "#\n",
    "#Gamma\n",
    "#R = matriz de recompensas\n",
    "#Q = matriz de 0s a entrenar\n",
    "#seleccionar estado inicial random\n",
    "#for episodio : estado inicial -> objetivo\n",
    "    # while estado actual != objetivo:\n",
    "        #seleccionar accion random\n",
    "        #siguiente estado\n",
    "        #Q(estado,accion) = R(estado,accion) + Gamma*Max[Q(siguiente estado, todas las acciones)]\n",
    "        #estado actual = siguiente estado\n",
    "        \n",
    "\n",
    "        "
   ]
  },
  {
   "cell_type": "code",
   "execution_count": 58,
   "metadata": {},
   "outputs": [],
   "source": [
    "def entrenarQ ( Q, R, Gamma, objetivo, num_episodios ):\n",
    "    while num_episodios > 0:\n",
    "        estado = random.randint ( 0, num_filas - 1 )\n",
    "        while ( estado != objetivo ):\n",
    "            acciones = acciones ( R, estado )\n",
    "            accion_elegida = random.choice ( acciones )\n",
    "            siguiente_estado = accion_elegida\n",
    "            Q [ estado, accion_elegida ] = R [ estado, accion_elegida ] + Gamma #* Max(Q[siguiente_estado,acciones])\n",
    "            estado = siguiente_estado\n",
    "    num_episodios = num_episodios - 1        "
   ]
  },
  {
   "cell_type": "code",
   "execution_count": 59,
   "metadata": {},
   "outputs": [],
   "source": [
    "def acciones ( matriz, estado ):\n",
    "    fila_estado = matriz [ estado , : ]\n",
    "    acciones = [ ]\n",
    "    for n in range ( len ( fila_estado ) ):\n",
    "        if (fila_estado [ n ] != -1):\n",
    "            acciones.append(n)\n",
    "    return (acciones)"
   ]
  },
  {
   "cell_type": "code",
   "execution_count": 40,
   "metadata": {},
   "outputs": [
    {
     "name": "stdout",
     "output_type": "stream",
     "text": [
      "[0, 1, 3, 4, 5, 6, 7, 8]\n"
     ]
    }
   ],
   "source": [
    "##### test algoritmo acciones ####\n",
    "#matriz = R\n",
    "#estado = 2\n",
    "#fila_estado = matriz [ estado , : ]\n",
    "#acciones = []\n",
    "#for n in range ( len ( fila_estado ) ):\n",
    "#    if (fila_estado [ n ] != -1):\n",
    "#        acciones.append(n)\n",
    "#print (acciones)"
   ]
  },
  {
   "cell_type": "code",
   "execution_count": 53,
   "metadata": {},
   "outputs": [
    {
     "name": "stdout",
     "output_type": "stream",
     "text": [
      "2\n",
      "2\n",
      "2\n",
      "1\n",
      "2\n",
      "1\n",
      "4\n",
      "1\n",
      "2\n",
      "3\n"
     ]
    }
   ],
   "source": [
    "#test random.choice\n",
    "l = [1,2,3,4]\n",
    "n = 10\n",
    "for i in range(n):\n",
    "    a = random.choice(l)\n",
    "    print(a)"
   ]
  }
 ],
 "metadata": {
  "kernelspec": {
   "display_name": "Python 3",
   "language": "python",
   "name": "python3"
  },
  "language_info": {
   "codemirror_mode": {
    "name": "ipython",
    "version": 3
   },
   "file_extension": ".py",
   "mimetype": "text/x-python",
   "name": "python",
   "nbconvert_exporter": "python",
   "pygments_lexer": "ipython3",
   "version": "3.7.1"
  }
 },
 "nbformat": 4,
 "nbformat_minor": 2
}
